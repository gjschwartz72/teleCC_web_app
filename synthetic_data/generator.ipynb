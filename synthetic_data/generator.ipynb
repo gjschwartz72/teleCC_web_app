{
 "cells": [
  {
   "cell_type": "code",
   "execution_count": 1,
   "metadata": {},
   "outputs": [],
   "source": [
    "# Reimport necessary libraries and define the required functions and setup again\n",
    "import pandas as pd\n",
    "import random\n",
    "from datetime import datetime, timedelta\n",
    "\n",
    "# Configuration parameters based on instructions\n",
    "sta6a_values = [123, 54321, 32999, 41444]\n",
    "rooms = list(range(1, 11))\n",
    "trial_arms = [1, 2]\n",
    "start_date = datetime(2024, 12, 1, 0, 0, 0)\n",
    "num_cycles = 336  # 28 days × 12 cycles/day\n",
    "leave_prob = 0.1\n",
    "\n",
    "# Updated variance reduction factor for random walks\n",
    "variance_reduction = 0.5\n",
    "\n",
    "# Generate realistic names\n",
    "first_names = [\"John\", \"Jane\", \"Alice\", \"Bob\", \"Charlie\", \"Diana\"]\n",
    "last_names = [\"Smith\", \"Johnson\", \"Williams\", \"Brown\", \"Jones\", \"Miller\"]\n",
    "\n",
    "# Helper functions\n",
    "def generate_proportions():\n",
    "    \"\"\"Generate proportions with specified constraints.\"\"\"\n",
    "    vals = sorted([random.uniform(0, 1) for _ in range(3)], reverse=True)\n",
    "    scale = random.uniform(0.75, 1) / sum(vals)\n",
    "    return [round(val * scale, 4) for val in vals]\n",
    "\n",
    "def assign_class(score, thresholds):\n",
    "    \"\"\"Assign class based on score thresholds.\"\"\"\n",
    "    if score <= thresholds[0]:\n",
    "        return 1\n",
    "    elif score <= thresholds[1]:\n",
    "        return 2\n",
    "    else:\n",
    "        return 3\n",
    "\n",
    "# Initialize data structures\n",
    "patients = {}\n",
    "simulation_data = []\n",
    "\n",
    "# Initial setup\n",
    "for sta6a in sta6a_values:\n",
    "    num_patients = random.randint(5, 12)\n",
    "    for _ in range(num_patients):\n",
    "        patient_id = len(patients) + 1\n",
    "        name = f\"{random.choice(first_names)} {random.choice(last_names)}\"\n",
    "        trial_arm = random.choice(trial_arms)\n",
    "        room = random.choice(rooms)\n",
    "        patients[patient_id] = {\n",
    "            \"PatientName\": name,\n",
    "            \"Trial_ARM\": trial_arm,\n",
    "            \"Sta6a\": sta6a,\n",
    "            \"room\": room,\n",
    "            \"respiratory_score\": random.uniform(0.1, 0.99),\n",
    "            \"septic_shock_score\": random.uniform(0.1, 0.99),\n",
    "            \"respiratory_trend\": None,\n",
    "            \"septic_shock_trend\": None,\n",
    "        }\n",
    "\n",
    "# Generate data for each cycle with updates\n",
    "current_datetime = start_date\n",
    "for cycle in range(num_cycles):\n",
    "    for sta6a in sta6a_values:\n",
    "        # Simulate patient exits and new entries\n",
    "        staying_patients = {\n",
    "            pid: data\n",
    "            for pid, data in patients.items()\n",
    "            if data[\"Sta6a\"] == sta6a and random.random() > leave_prob\n",
    "        }\n",
    "        num_new_patients = random.randint(5, 12) - len(staying_patients)\n",
    "        for _ in range(max(0, num_new_patients)):\n",
    "            patient_id = len(patients) + 1\n",
    "            name = f\"{random.choice(first_names)} {random.choice(last_names)}\"\n",
    "            trial_arm = random.choice(trial_arms)\n",
    "            room = random.choice(rooms)\n",
    "            patients[patient_id] = {\n",
    "                \"PatientName\": name,\n",
    "                \"Trial_ARM\": trial_arm,\n",
    "                \"Sta6a\": sta6a,\n",
    "                \"room\": room,\n",
    "                \"respiratory_score\": random.uniform(0.1, 0.99),\n",
    "                \"septic_shock_score\": random.uniform(0.1, 0.99),\n",
    "                \"respiratory_trend\": None,\n",
    "                \"septic_shock_trend\": None,\n",
    "            }\n",
    "            staying_patients[patient_id] = patients[patient_id]\n",
    "        \n",
    "        # Update scores and calculate trends with reduced variance\n",
    "        for pid, data in staying_patients.items():\n",
    "            prev_respiratory_score = data[\"respiratory_score\"]\n",
    "            prev_septic_score = data[\"septic_shock_score\"]\n",
    "            \n",
    "            # Correlated score generation with reduced variance\n",
    "            if random.random() < 0.33:\n",
    "                respiratory_score = max(0.1, min(0.99, prev_respiratory_score + random.uniform(-0.025, 0.05)))\n",
    "                septic_score = max(0.1, min(0.99, prev_septic_score + random.uniform(-0.025, 0.05)))\n",
    "            elif random.random() < 0.66:\n",
    "                respiratory_score = max(0.1, min(0.99, prev_respiratory_score - random.uniform(-0.025, 0.05)))\n",
    "                septic_score = max(0.1, min(0.99, prev_septic_score - random.uniform(-0.025, 0.05)))\n",
    "            else:\n",
    "                respiratory_score = max(0.1, min(0.99, prev_respiratory_score + random.uniform(-0.025, 0.025)))\n",
    "                septic_score = max(0.1, min(0.99, prev_septic_score + random.uniform(-0.025, 0.025)))\n",
    "            \n",
    "            respiratory_trend = (\n",
    "                1 if respiratory_score > prev_respiratory_score else -1 if respiratory_score < prev_respiratory_score else 0\n",
    "            )\n",
    "            septic_trend = (\n",
    "                1 if septic_score > prev_septic_score else -1 if septic_score < prev_septic_score else 0\n",
    "            )\n",
    "            \n",
    "            # Update patient data\n",
    "            data[\"respiratory_score\"] = respiratory_score\n",
    "            data[\"septic_shock_score\"] = septic_score\n",
    "            data[\"respiratory_trend\"] = respiratory_trend\n",
    "            data[\"septic_shock_trend\"] = septic_trend\n",
    "            \n",
    "            # Generate record\n",
    "            record = {\n",
    "                \"PatientID\": pid,\n",
    "                \"room\": data[\"room\"],\n",
    "                \"Sta6a\": data[\"Sta6a\"],\n",
    "                \"PatientName\": data[\"PatientName\"],\n",
    "                \"Trial_ARM\": data[\"Trial_ARM\"],\n",
    "                \"prediction_datetime\": current_datetime,\n",
    "                \"respiratory_score\": respiratory_score,\n",
    "                \"respiratory_class\": assign_class(respiratory_score, [0.33, 0.66]),\n",
    "                \"respiratory_trend\": respiratory_trend,\n",
    "                \"septic_shock_score\": septic_score,\n",
    "                \"septic_shock_class\": assign_class(septic_score, [0.33, 0.66]),\n",
    "                \"septic_shock_trend\": septic_trend,\n",
    "            }\n",
    "            \n",
    "            # Add proportions for septic_shock_score_expl_* and respiratory_score_expl_*\n",
    "            record.update(\n",
    "                dict(\n",
    "                    zip(\n",
    "                        [\n",
    "                            \"septic_shock_score_expl_pos_1\",\n",
    "                            \"septic_shock_score_expl_pos_2\",\n",
    "                            \"septic_shock_score_expl_pos_3\",\n",
    "                        ],\n",
    "                        generate_proportions(),\n",
    "                    )\n",
    "                )\n",
    "            )\n",
    "            record.update(\n",
    "                dict(\n",
    "                    zip(\n",
    "                        [\n",
    "                            \"septic_shock_score_expl_neg_1\",\n",
    "                            \"septic_shock_score_expl_neg_2\",\n",
    "                            \"septic_shock_score_expl_neg_3\",\n",
    "                        ],\n",
    "                        generate_proportions(),\n",
    "                    )\n",
    "                )\n",
    "            )\n",
    "            record.update(\n",
    "                dict(\n",
    "                    zip(\n",
    "                        [\n",
    "                            \"respitory_score_expl_pos_1\",\n",
    "                            \"respitory_score_expl_pos_2\",\n",
    "                            \"respitory_score_expl_pos_3\",\n",
    "                        ],\n",
    "                        generate_proportions(),\n",
    "                    )\n",
    "                )\n",
    "            )\n",
    "            record.update(\n",
    "                dict(\n",
    "                    zip(\n",
    "                        [\n",
    "                            \"respitory_score_expl_neg_1\",\n",
    "                            \"respitory_score_expl_neg_2\",\n",
    "                            \"respitory_score_expl_neg_3\",\n",
    "                        ],\n",
    "                        generate_proportions(),\n",
    "                    )\n",
    "                )\n",
    "            )\n",
    "            \n",
    "            simulation_data.append(record)\n",
    "    \n",
    "    # Move to the next cycle\n",
    "    current_datetime += timedelta(hours=2)\n",
    "\n",
    "# Convert to DataFrame and display\n",
    "df_simulation = pd.DataFrame(simulation_data)"
   ]
  },
  {
   "cell_type": "code",
   "execution_count": 2,
   "metadata": {},
   "outputs": [
    {
     "data": {
      "text/plain": [
       "Index(['PatientID', 'room', 'Sta6a', 'PatientName', 'Trial_ARM',\n",
       "       'prediction_datetime', 'respiratory_score', 'respiratory_class',\n",
       "       'respiratory_trend', 'septic_shock_score', 'septic_shock_class',\n",
       "       'septic_shock_trend', 'septic_shock_score_expl_pos_1',\n",
       "       'septic_shock_score_expl_pos_2', 'septic_shock_score_expl_pos_3',\n",
       "       'septic_shock_score_expl_neg_1', 'septic_shock_score_expl_neg_2',\n",
       "       'septic_shock_score_expl_neg_3', 'respitory_score_expl_pos_1',\n",
       "       'respitory_score_expl_pos_2', 'respitory_score_expl_pos_3',\n",
       "       'respitory_score_expl_neg_1', 'respitory_score_expl_neg_2',\n",
       "       'respitory_score_expl_neg_3'],\n",
       "      dtype='object')"
      ]
     },
     "execution_count": 2,
     "metadata": {},
     "output_type": "execute_result"
    }
   ],
   "source": [
    "df_simulation.columns"
   ]
  },
  {
   "cell_type": "code",
   "execution_count": 4,
   "metadata": {},
   "outputs": [
    {
     "data": {
      "text/html": [
       "<div>\n",
       "<style scoped>\n",
       "    .dataframe tbody tr th:only-of-type {\n",
       "        vertical-align: middle;\n",
       "    }\n",
       "\n",
       "    .dataframe tbody tr th {\n",
       "        vertical-align: top;\n",
       "    }\n",
       "\n",
       "    .dataframe thead th {\n",
       "        text-align: right;\n",
       "    }\n",
       "</style>\n",
       "<table border=\"1\" class=\"dataframe\">\n",
       "  <thead>\n",
       "    <tr style=\"text-align: right;\">\n",
       "      <th></th>\n",
       "      <th>PatientID</th>\n",
       "      <th>room</th>\n",
       "      <th>Sta6a</th>\n",
       "      <th>PatientName</th>\n",
       "      <th>Trial_ARM</th>\n",
       "      <th>prediction_datetime</th>\n",
       "      <th>respiratory_score</th>\n",
       "      <th>respiratory_class</th>\n",
       "      <th>respiratory_trend</th>\n",
       "      <th>septic_shock_score</th>\n",
       "      <th>...</th>\n",
       "      <th>septic_shock_score_expl_pos_3</th>\n",
       "      <th>septic_shock_score_expl_neg_1</th>\n",
       "      <th>septic_shock_score_expl_neg_2</th>\n",
       "      <th>septic_shock_score_expl_neg_3</th>\n",
       "      <th>respitory_score_expl_pos_1</th>\n",
       "      <th>respitory_score_expl_pos_2</th>\n",
       "      <th>respitory_score_expl_pos_3</th>\n",
       "      <th>respitory_score_expl_neg_1</th>\n",
       "      <th>respitory_score_expl_neg_2</th>\n",
       "      <th>respitory_score_expl_neg_3</th>\n",
       "    </tr>\n",
       "  </thead>\n",
       "  <tbody>\n",
       "    <tr>\n",
       "      <th>0</th>\n",
       "      <td>1</td>\n",
       "      <td>2</td>\n",
       "      <td>123</td>\n",
       "      <td>Charlie Miller</td>\n",
       "      <td>1</td>\n",
       "      <td>2024-12-01</td>\n",
       "      <td>0.522677</td>\n",
       "      <td>2</td>\n",
       "      <td>1</td>\n",
       "      <td>0.413185</td>\n",
       "      <td>...</td>\n",
       "      <td>0.0419</td>\n",
       "      <td>0.3565</td>\n",
       "      <td>0.3100</td>\n",
       "      <td>0.1316</td>\n",
       "      <td>0.5654</td>\n",
       "      <td>0.2752</td>\n",
       "      <td>0.0396</td>\n",
       "      <td>0.4829</td>\n",
       "      <td>0.4037</td>\n",
       "      <td>0.0668</td>\n",
       "    </tr>\n",
       "    <tr>\n",
       "      <th>1</th>\n",
       "      <td>2</td>\n",
       "      <td>9</td>\n",
       "      <td>123</td>\n",
       "      <td>Charlie Jones</td>\n",
       "      <td>2</td>\n",
       "      <td>2024-12-01</td>\n",
       "      <td>0.497043</td>\n",
       "      <td>2</td>\n",
       "      <td>1</td>\n",
       "      <td>0.317630</td>\n",
       "      <td>...</td>\n",
       "      <td>0.1827</td>\n",
       "      <td>0.5013</td>\n",
       "      <td>0.1968</td>\n",
       "      <td>0.0850</td>\n",
       "      <td>0.2927</td>\n",
       "      <td>0.2626</td>\n",
       "      <td>0.2426</td>\n",
       "      <td>0.3536</td>\n",
       "      <td>0.2417</td>\n",
       "      <td>0.2181</td>\n",
       "    </tr>\n",
       "    <tr>\n",
       "      <th>2</th>\n",
       "      <td>3</td>\n",
       "      <td>1</td>\n",
       "      <td>123</td>\n",
       "      <td>Diana Miller</td>\n",
       "      <td>2</td>\n",
       "      <td>2024-12-01</td>\n",
       "      <td>0.419392</td>\n",
       "      <td>2</td>\n",
       "      <td>1</td>\n",
       "      <td>0.732438</td>\n",
       "      <td>...</td>\n",
       "      <td>0.2667</td>\n",
       "      <td>0.4759</td>\n",
       "      <td>0.2743</td>\n",
       "      <td>0.2429</td>\n",
       "      <td>0.5065</td>\n",
       "      <td>0.3316</td>\n",
       "      <td>0.0423</td>\n",
       "      <td>0.6109</td>\n",
       "      <td>0.2855</td>\n",
       "      <td>0.0709</td>\n",
       "    </tr>\n",
       "    <tr>\n",
       "      <th>3</th>\n",
       "      <td>4</td>\n",
       "      <td>10</td>\n",
       "      <td>123</td>\n",
       "      <td>Charlie Brown</td>\n",
       "      <td>1</td>\n",
       "      <td>2024-12-01</td>\n",
       "      <td>0.846445</td>\n",
       "      <td>3</td>\n",
       "      <td>1</td>\n",
       "      <td>0.464409</td>\n",
       "      <td>...</td>\n",
       "      <td>0.0489</td>\n",
       "      <td>0.4016</td>\n",
       "      <td>0.3835</td>\n",
       "      <td>0.0051</td>\n",
       "      <td>0.4787</td>\n",
       "      <td>0.2860</td>\n",
       "      <td>0.0373</td>\n",
       "      <td>0.4108</td>\n",
       "      <td>0.3408</td>\n",
       "      <td>0.1924</td>\n",
       "    </tr>\n",
       "    <tr>\n",
       "      <th>4</th>\n",
       "      <td>34</td>\n",
       "      <td>8</td>\n",
       "      <td>123</td>\n",
       "      <td>Jane Williams</td>\n",
       "      <td>2</td>\n",
       "      <td>2024-12-01</td>\n",
       "      <td>0.867784</td>\n",
       "      <td>3</td>\n",
       "      <td>1</td>\n",
       "      <td>0.660536</td>\n",
       "      <td>...</td>\n",
       "      <td>0.1927</td>\n",
       "      <td>0.4107</td>\n",
       "      <td>0.3755</td>\n",
       "      <td>0.0936</td>\n",
       "      <td>0.3993</td>\n",
       "      <td>0.3966</td>\n",
       "      <td>0.0334</td>\n",
       "      <td>0.5347</td>\n",
       "      <td>0.2235</td>\n",
       "      <td>0.1714</td>\n",
       "    </tr>\n",
       "  </tbody>\n",
       "</table>\n",
       "<p>5 rows × 24 columns</p>\n",
       "</div>"
      ],
      "text/plain": [
       "   PatientID  room  Sta6a     PatientName  Trial_ARM prediction_datetime  \\\n",
       "0          1     2    123  Charlie Miller          1          2024-12-01   \n",
       "1          2     9    123   Charlie Jones          2          2024-12-01   \n",
       "2          3     1    123    Diana Miller          2          2024-12-01   \n",
       "3          4    10    123   Charlie Brown          1          2024-12-01   \n",
       "4         34     8    123   Jane Williams          2          2024-12-01   \n",
       "\n",
       "   respiratory_score  respiratory_class  respiratory_trend  \\\n",
       "0           0.522677                  2                  1   \n",
       "1           0.497043                  2                  1   \n",
       "2           0.419392                  2                  1   \n",
       "3           0.846445                  3                  1   \n",
       "4           0.867784                  3                  1   \n",
       "\n",
       "   septic_shock_score  ...  septic_shock_score_expl_pos_3  \\\n",
       "0            0.413185  ...                         0.0419   \n",
       "1            0.317630  ...                         0.1827   \n",
       "2            0.732438  ...                         0.2667   \n",
       "3            0.464409  ...                         0.0489   \n",
       "4            0.660536  ...                         0.1927   \n",
       "\n",
       "   septic_shock_score_expl_neg_1  septic_shock_score_expl_neg_2  \\\n",
       "0                         0.3565                         0.3100   \n",
       "1                         0.5013                         0.1968   \n",
       "2                         0.4759                         0.2743   \n",
       "3                         0.4016                         0.3835   \n",
       "4                         0.4107                         0.3755   \n",
       "\n",
       "   septic_shock_score_expl_neg_3  respitory_score_expl_pos_1  \\\n",
       "0                         0.1316                      0.5654   \n",
       "1                         0.0850                      0.2927   \n",
       "2                         0.2429                      0.5065   \n",
       "3                         0.0051                      0.4787   \n",
       "4                         0.0936                      0.3993   \n",
       "\n",
       "   respitory_score_expl_pos_2  respitory_score_expl_pos_3  \\\n",
       "0                      0.2752                      0.0396   \n",
       "1                      0.2626                      0.2426   \n",
       "2                      0.3316                      0.0423   \n",
       "3                      0.2860                      0.0373   \n",
       "4                      0.3966                      0.0334   \n",
       "\n",
       "   respitory_score_expl_neg_1  respitory_score_expl_neg_2  \\\n",
       "0                      0.4829                      0.4037   \n",
       "1                      0.3536                      0.2417   \n",
       "2                      0.6109                      0.2855   \n",
       "3                      0.4108                      0.3408   \n",
       "4                      0.5347                      0.2235   \n",
       "\n",
       "   respitory_score_expl_neg_3  \n",
       "0                      0.0668  \n",
       "1                      0.2181  \n",
       "2                      0.0709  \n",
       "3                      0.1924  \n",
       "4                      0.1714  \n",
       "\n",
       "[5 rows x 24 columns]"
      ]
     },
     "execution_count": 4,
     "metadata": {},
     "output_type": "execute_result"
    }
   ],
   "source": [
    "df_simulation.head()"
   ]
  },
  {
   "cell_type": "code",
   "execution_count": 5,
   "metadata": {},
   "outputs": [
    {
     "data": {
      "text/plain": [
       "PatientName     Sta6a\n",
       "Charlie Miller  54321    605\n",
       "                123      294\n",
       "Name: count, dtype: int64"
      ]
     },
     "execution_count": 5,
     "metadata": {},
     "output_type": "execute_result"
    }
   ],
   "source": [
    "df_simulation.query(\"PatientName == 'Charlie Miller'\")[[\"PatientName\", 'Sta6a']].value_counts()"
   ]
  },
  {
   "cell_type": "code",
   "execution_count": 9,
   "metadata": {},
   "outputs": [
    {
     "data": {
      "text/plain": [
       "<Axes: >"
      ]
     },
     "execution_count": 9,
     "metadata": {},
     "output_type": "execute_result"
    },
    {
     "data": {
      "image/png": "[encoded data removed]",
      "text/plain": [
       "<Figure size 640x480 with 1 Axes>"
      ]
     },
     "metadata": {},
     "output_type": "display_data"
    }
   ],
   "source": [
    "x = df_simulation.query(\"Sta6a == 123     and PatientName == 'Charlie Miller'\").sort_values('prediction_datetime')\n",
    "x.septic_shock_score.plot()"
   ]
  },
  {
   "cell_type": "markdown",
   "metadata": {},
   "source": [
    "# Load to sqlite"
   ]
  },
  {
   "cell_type": "code",
   "execution_count": 10,
   "metadata": {},
   "outputs": [
    {
     "name": "stdout",
     "output_type": "stream",
     "text": [
      "Data loaded into table 'patient_teleCC' in database 'TeleCC.sqlite'.\n"
     ]
    }
   ],
   "source": [
    "import sqlite3\n",
    "\n",
    "# Define the database and table name\n",
    "database_name = \"TeleCC.sqlite\"\n",
    "table_name = \"patient_teleCC\"\n",
    "\n",
    "# Connect to the SQLite database (it will be created if it doesn't exist)\n",
    "conn = sqlite3.connect(database_name)\n",
    "\n",
    "# Write the DataFrame to the SQLite table\n",
    "df_simulation.to_sql(table_name, conn, if_exists=\"replace\", index=False)\n",
    "\n",
    "# Close the connection\n",
    "conn.close()\n",
    "\n",
    "print(f\"Data loaded into table '{table_name}' in database '{database_name}'.\")\n"
   ]
  },
  {
   "cell_type": "code",
   "execution_count": null,
   "metadata": {},
   "outputs": [],
   "source": [
    "pd"
   ]
  },
  {
   "cell_type": "code",
   "execution_count": 21,
   "metadata": {},
   "outputs": [],
   "source": [
    "pd.options.display.max_rows = 100\n",
    "pd.options.display.min_rows = 100"
   ]
  },
  {
   "cell_type": "code",
   "execution_count": null,
   "metadata": {},
   "outputs": [],
   "source": [
    "df_simulation.groupby([\"Sta6a\", \"prediction_datetime\"]).agg(\"count\").PatientID"
   ]
  },
  {
   "cell_type": "code",
   "execution_count": null,
   "metadata": {},
   "outputs": [],
   "source": [
    "df_simulation.query(\"Sta6a == 123\")[[\"Sta6a\", \"Trial_ARM\", \"prediction_datetime\"]]"
   ]
  },
  {
   "cell_type": "code",
   "execution_count": 12,
   "metadata": {},
   "outputs": [
    {
     "data": {
      "text/html": [
       "<div>\n",
       "<style scoped>\n",
       "    .dataframe tbody tr th:only-of-type {\n",
       "        vertical-align: middle;\n",
       "    }\n",
       "\n",
       "    .dataframe tbody tr th {\n",
       "        vertical-align: top;\n",
       "    }\n",
       "\n",
       "    .dataframe thead th {\n",
       "        text-align: right;\n",
       "    }\n",
       "</style>\n",
       "<table border=\"1\" class=\"dataframe\">\n",
       "  <thead>\n",
       "    <tr style=\"text-align: right;\">\n",
       "      <th></th>\n",
       "      <th>PatientID</th>\n",
       "      <th>room</th>\n",
       "      <th>Sta6a</th>\n",
       "      <th>PatientName</th>\n",
       "      <th>Trial_ARM</th>\n",
       "      <th>prediction_datetime</th>\n",
       "      <th>respiratory_score</th>\n",
       "      <th>respiratory_class</th>\n",
       "      <th>respiratory_trend</th>\n",
       "      <th>septic_shock_score</th>\n",
       "      <th>...</th>\n",
       "      <th>septic_shock_score_expl_pos_3</th>\n",
       "      <th>septic_shock_score_expl_neg_1</th>\n",
       "      <th>septic_shock_score_expl_neg_2</th>\n",
       "      <th>septic_shock_score_expl_neg_3</th>\n",
       "      <th>respitory_score_expl_pos_1</th>\n",
       "      <th>respitory_score_expl_pos_2</th>\n",
       "      <th>respitory_score_expl_pos_3</th>\n",
       "      <th>respitory_score_expl_neg_1</th>\n",
       "      <th>respitory_score_expl_neg_2</th>\n",
       "      <th>respitory_score_expl_neg_3</th>\n",
       "    </tr>\n",
       "  </thead>\n",
       "  <tbody>\n",
       "    <tr>\n",
       "      <th>0</th>\n",
       "      <td>1</td>\n",
       "      <td>2</td>\n",
       "      <td>123</td>\n",
       "      <td>Charlie Miller</td>\n",
       "      <td>1</td>\n",
       "      <td>2024-12-01</td>\n",
       "      <td>0.522677</td>\n",
       "      <td>2</td>\n",
       "      <td>1</td>\n",
       "      <td>0.413185</td>\n",
       "      <td>...</td>\n",
       "      <td>0.0419</td>\n",
       "      <td>0.3565</td>\n",
       "      <td>0.3100</td>\n",
       "      <td>0.1316</td>\n",
       "      <td>0.5654</td>\n",
       "      <td>0.2752</td>\n",
       "      <td>0.0396</td>\n",
       "      <td>0.4829</td>\n",
       "      <td>0.4037</td>\n",
       "      <td>0.0668</td>\n",
       "    </tr>\n",
       "    <tr>\n",
       "      <th>1</th>\n",
       "      <td>2</td>\n",
       "      <td>9</td>\n",
       "      <td>123</td>\n",
       "      <td>Charlie Jones</td>\n",
       "      <td>2</td>\n",
       "      <td>2024-12-01</td>\n",
       "      <td>0.497043</td>\n",
       "      <td>2</td>\n",
       "      <td>1</td>\n",
       "      <td>0.317630</td>\n",
       "      <td>...</td>\n",
       "      <td>0.1827</td>\n",
       "      <td>0.5013</td>\n",
       "      <td>0.1968</td>\n",
       "      <td>0.0850</td>\n",
       "      <td>0.2927</td>\n",
       "      <td>0.2626</td>\n",
       "      <td>0.2426</td>\n",
       "      <td>0.3536</td>\n",
       "      <td>0.2417</td>\n",
       "      <td>0.2181</td>\n",
       "    </tr>\n",
       "    <tr>\n",
       "      <th>2</th>\n",
       "      <td>3</td>\n",
       "      <td>1</td>\n",
       "      <td>123</td>\n",
       "      <td>Diana Miller</td>\n",
       "      <td>2</td>\n",
       "      <td>2024-12-01</td>\n",
       "      <td>0.419392</td>\n",
       "      <td>2</td>\n",
       "      <td>1</td>\n",
       "      <td>0.732438</td>\n",
       "      <td>...</td>\n",
       "      <td>0.2667</td>\n",
       "      <td>0.4759</td>\n",
       "      <td>0.2743</td>\n",
       "      <td>0.2429</td>\n",
       "      <td>0.5065</td>\n",
       "      <td>0.3316</td>\n",
       "      <td>0.0423</td>\n",
       "      <td>0.6109</td>\n",
       "      <td>0.2855</td>\n",
       "      <td>0.0709</td>\n",
       "    </tr>\n",
       "    <tr>\n",
       "      <th>3</th>\n",
       "      <td>4</td>\n",
       "      <td>10</td>\n",
       "      <td>123</td>\n",
       "      <td>Charlie Brown</td>\n",
       "      <td>1</td>\n",
       "      <td>2024-12-01</td>\n",
       "      <td>0.846445</td>\n",
       "      <td>3</td>\n",
       "      <td>1</td>\n",
       "      <td>0.464409</td>\n",
       "      <td>...</td>\n",
       "      <td>0.0489</td>\n",
       "      <td>0.4016</td>\n",
       "      <td>0.3835</td>\n",
       "      <td>0.0051</td>\n",
       "      <td>0.4787</td>\n",
       "      <td>0.2860</td>\n",
       "      <td>0.0373</td>\n",
       "      <td>0.4108</td>\n",
       "      <td>0.3408</td>\n",
       "      <td>0.1924</td>\n",
       "    </tr>\n",
       "    <tr>\n",
       "      <th>4</th>\n",
       "      <td>34</td>\n",
       "      <td>8</td>\n",
       "      <td>123</td>\n",
       "      <td>Jane Williams</td>\n",
       "      <td>2</td>\n",
       "      <td>2024-12-01</td>\n",
       "      <td>0.867784</td>\n",
       "      <td>3</td>\n",
       "      <td>1</td>\n",
       "      <td>0.660536</td>\n",
       "      <td>...</td>\n",
       "      <td>0.1927</td>\n",
       "      <td>0.4107</td>\n",
       "      <td>0.3755</td>\n",
       "      <td>0.0936</td>\n",
       "      <td>0.3993</td>\n",
       "      <td>0.3966</td>\n",
       "      <td>0.0334</td>\n",
       "      <td>0.5347</td>\n",
       "      <td>0.2235</td>\n",
       "      <td>0.1714</td>\n",
       "    </tr>\n",
       "  </tbody>\n",
       "</table>\n",
       "<p>5 rows × 24 columns</p>\n",
       "</div>"
      ],
      "text/plain": [
       "   PatientID  room  Sta6a     PatientName  Trial_ARM prediction_datetime  \\\n",
       "0          1     2    123  Charlie Miller          1          2024-12-01   \n",
       "1          2     9    123   Charlie Jones          2          2024-12-01   \n",
       "2          3     1    123    Diana Miller          2          2024-12-01   \n",
       "3          4    10    123   Charlie Brown          1          2024-12-01   \n",
       "4         34     8    123   Jane Williams          2          2024-12-01   \n",
       "\n",
       "   respiratory_score  respiratory_class  respiratory_trend  \\\n",
       "0           0.522677                  2                  1   \n",
       "1           0.497043                  2                  1   \n",
       "2           0.419392                  2                  1   \n",
       "3           0.846445                  3                  1   \n",
       "4           0.867784                  3                  1   \n",
       "\n",
       "   septic_shock_score  ...  septic_shock_score_expl_pos_3  \\\n",
       "0            0.413185  ...                         0.0419   \n",
       "1            0.317630  ...                         0.1827   \n",
       "2            0.732438  ...                         0.2667   \n",
       "3            0.464409  ...                         0.0489   \n",
       "4            0.660536  ...                         0.1927   \n",
       "\n",
       "   septic_shock_score_expl_neg_1  septic_shock_score_expl_neg_2  \\\n",
       "0                         0.3565                         0.3100   \n",
       "1                         0.5013                         0.1968   \n",
       "2                         0.4759                         0.2743   \n",
       "3                         0.4016                         0.3835   \n",
       "4                         0.4107                         0.3755   \n",
       "\n",
       "   septic_shock_score_expl_neg_3  respitory_score_expl_pos_1  \\\n",
       "0                         0.1316                      0.5654   \n",
       "1                         0.0850                      0.2927   \n",
       "2                         0.2429                      0.5065   \n",
       "3                         0.0051                      0.4787   \n",
       "4                         0.0936                      0.3993   \n",
       "\n",
       "   respitory_score_expl_pos_2  respitory_score_expl_pos_3  \\\n",
       "0                      0.2752                      0.0396   \n",
       "1                      0.2626                      0.2426   \n",
       "2                      0.3316                      0.0423   \n",
       "3                      0.2860                      0.0373   \n",
       "4                      0.3966                      0.0334   \n",
       "\n",
       "   respitory_score_expl_neg_1  respitory_score_expl_neg_2  \\\n",
       "0                      0.4829                      0.4037   \n",
       "1                      0.3536                      0.2417   \n",
       "2                      0.6109                      0.2855   \n",
       "3                      0.4108                      0.3408   \n",
       "4                      0.5347                      0.2235   \n",
       "\n",
       "   respitory_score_expl_neg_3  \n",
       "0                      0.0668  \n",
       "1                      0.2181  \n",
       "2                      0.0709  \n",
       "3                      0.1924  \n",
       "4                      0.1714  \n",
       "\n",
       "[5 rows x 24 columns]"
      ]
     },
     "execution_count": 12,
     "metadata": {},
     "output_type": "execute_result"
    }
   ],
   "source": [
    "df_simulation.head()"
   ]
  },
  {
   "cell_type": "markdown",
   "metadata": {},
   "source": [
    "# Plot histories"
   ]
  },
  {
   "cell_type": "code",
   "execution_count": 11,
   "metadata": {},
   "outputs": [
    {
     "name": "stderr",
     "output_type": "stream",
     "text": [
      "C:\\Users\\GregSchwartz\\AppData\\Local\\Temp\\ipykernel_21828\\1707295170.py:20: FutureWarning:\n",
      "\n",
      "'H' is deprecated and will be removed in a future version, please use 'h' instead.\n",
      "\n"
     ]
    },
    {
     "data": {
      "application/vnd.plotly.v1+json": {
       "config": {
        "plotlyServerURL": "https://plot.ly"
       },
       "data": [
        {
         "mode": "lines+markers",
         "name": "Patient 12 Septic Shock Score",
         "type": "scatter",
         "x": [
          "2024-12-01T02:00:00",
          "2024-12-01T04:00:00",
          "2024-12-01T06:00:00",
          "2024-12-01T08:00:00",
          "2024-12-01T10:00:00",
          "2024-12-01T12:00:00",
          "2024-12-01T14:00:00",
          "2024-12-01T16:00:00",
          "2024-12-01T18:00:00",
          "2024-12-01T20:00:00",
          "2024-12-01T22:00:00",
          "2024-12-02T00:00:00",
          "2024-12-02T02:00:00",
          "2024-12-02T04:00:00",
          "2024-12-02T06:00:00",
          "2024-12-02T08:00:00",
          "2024-12-02T10:00:00",
          "2024-12-02T12:00:00",
          "2024-12-02T14:00:00",
          "2024-12-02T16:00:00",
          "2024-12-02T18:00:00",
          "2024-12-02T20:00:00",
          "2024-12-02T22:00:00",
          "2024-12-03T00:00:00",
          "2024-12-03T02:00:00",
          "2024-12-03T04:00:00",
          "2024-12-03T06:00:00",
          "2024-12-03T08:00:00",
          "2024-12-03T10:00:00",
          "2024-12-03T12:00:00",
          "2024-12-03T14:00:00",
          "2024-12-03T16:00:00",
          "2024-12-03T18:00:00",
          "2024-12-03T20:00:00",
          "2024-12-03T22:00:00",
          "2024-12-04T00:00:00",
          "2024-12-04T02:00:00",
          "2024-12-04T04:00:00",
          "2024-12-04T06:00:00",
          "2024-12-04T08:00:00",
          "2024-12-04T10:00:00",
          "2024-12-04T12:00:00",
          "2024-12-04T14:00:00",
          "2024-12-04T16:00:00",
          "2024-12-04T18:00:00",
          "2024-12-04T20:00:00",
          "2024-12-04T22:00:00",
          "2024-12-05T00:00:00",
          "2024-12-05T02:00:00",
          "2024-12-05T04:00:00",
          "2024-12-05T06:00:00",
          "2024-12-05T08:00:00",
          "2024-12-05T10:00:00",
          "2024-12-05T12:00:00",
          "2024-12-05T14:00:00",
          "2024-12-05T16:00:00",
          "2024-12-05T18:00:00",
          "2024-12-05T20:00:00",
          "2024-12-05T22:00:00",
          "2024-12-06T00:00:00",
          "2024-12-06T02:00:00",
          "2024-12-06T04:00:00",
          "2024-12-06T06:00:00",
          "2024-12-06T08:00:00",
          "2024-12-06T10:00:00",
          "2024-12-06T12:00:00",
          "2024-12-06T14:00:00",
          "2024-12-06T16:00:00",
          "2024-12-06T18:00:00",
          "2024-12-06T20:00:00",
          "2024-12-06T22:00:00",
          "2024-12-07T00:00:00",
          "2024-12-07T02:00:00",
          "2024-12-07T04:00:00",
          "2024-12-07T06:00:00",
          "2024-12-07T08:00:00",
          "2024-12-07T10:00:00",
          "2024-12-07T12:00:00",
          "2024-12-07T14:00:00",
          "2024-12-07T16:00:00",
          "2024-12-07T18:00:00",
          "2024-12-07T20:00:00",
          "2024-12-07T22:00:00",
          "2024-12-08T00:00:00",
          "2024-12-08T02:00:00",
          "2024-12-08T04:00:00",
          "2024-12-08T06:00:00",
          "2024-12-08T08:00:00",
          "2024-12-08T10:00:00",
          "2024-12-08T12:00:00",
          "2024-12-08T14:00:00",
          "2024-12-08T16:00:00",
          "2024-12-08T18:00:00",
          "2024-12-08T20:00:00",
          "2024-12-08T22:00:00",
          "2024-12-09T00:00:00",
          "2024-12-09T04:00:00",
          "2024-12-09T06:00:00",
          "2024-12-09T08:00:00",
          "2024-12-09T10:00:00",
          "2024-12-09T12:00:00",
          "2024-12-09T14:00:00",
          "2024-12-09T16:00:00",
          "2024-12-09T18:00:00",
          "2024-12-09T20:00:00",
          "2024-12-09T22:00:00",
          "2024-12-10T00:00:00",
          "2024-12-10T02:00:00",
          "2024-12-10T04:00:00",
          "2024-12-10T08:00:00",
          "2024-12-10T10:00:00",
          "2024-12-10T12:00:00",
          "2024-12-10T14:00:00",
          "2024-12-10T16:00:00",
          "2024-12-10T18:00:00",
          "2024-12-10T20:00:00",
          "2024-12-10T22:00:00",
          "2024-12-11T00:00:00",
          "2024-12-11T02:00:00",
          "2024-12-11T04:00:00",
          "2024-12-11T06:00:00",
          "2024-12-11T08:00:00",
          "2024-12-11T10:00:00",
          "2024-12-11T12:00:00",
          "2024-12-11T14:00:00",
          "2024-12-11T16:00:00",
          "2024-12-11T20:00:00",
          "2024-12-11T22:00:00",
          "2024-12-12T02:00:00",
          "2024-12-12T04:00:00",
          "2024-12-12T06:00:00",
          "2024-12-12T08:00:00",
          "2024-12-12T10:00:00",
          "2024-12-12T12:00:00",
          "2024-12-12T16:00:00",
          "2024-12-12T18:00:00",
          "2024-12-12T20:00:00",
          "2024-12-13T00:00:00",
          "2024-12-13T02:00:00",
          "2024-12-13T04:00:00",
          "2024-12-13T06:00:00",
          "2024-12-13T08:00:00",
          "2024-12-13T10:00:00",
          "2024-12-13T12:00:00",
          "2024-12-13T14:00:00",
          "2024-12-13T16:00:00",
          "2024-12-13T18:00:00",
          "2024-12-13T20:00:00",
          "2024-12-13T22:00:00",
          "2024-12-14T00:00:00",
          "2024-12-14T02:00:00",
          "2024-12-14T04:00:00",
          "2024-12-14T06:00:00",
          "2024-12-14T08:00:00",
          "2024-12-14T10:00:00",
          "2024-12-14T12:00:00",
          "2024-12-14T14:00:00",
          "2024-12-14T16:00:00",
          "2024-12-14T18:00:00",
          "2024-12-14T20:00:00",
          "2024-12-14T22:00:00",
          "2024-12-15T00:00:00",
          "2024-12-15T04:00:00",
          "2024-12-15T06:00:00",
          "2024-12-15T08:00:00",
          "2024-12-15T10:00:00",
          "2024-12-15T14:00:00",
          "2024-12-15T16:00:00",
          "2024-12-15T18:00:00",
          "2024-12-15T20:00:00",
          "2024-12-15T22:00:00",
          "2024-12-16T00:00:00",
          "2024-12-16T02:00:00",
          "2024-12-16T04:00:00",
          "2024-12-16T06:00:00",
          "2024-12-16T08:00:00",
          "2024-12-16T10:00:00",
          "2024-12-16T12:00:00",
          "2024-12-16T14:00:00",
          "2024-12-16T16:00:00",
          "2024-12-16T18:00:00",
          "2024-12-16T20:00:00",
          "2024-12-16T22:00:00",
          "2024-12-17T00:00:00",
          "2024-12-17T02:00:00",
          "2024-12-17T04:00:00",
          "2024-12-17T06:00:00",
          "2024-12-17T08:00:00",
          "2024-12-17T10:00:00",
          "2024-12-17T12:00:00",
          "2024-12-17T16:00:00",
          "2024-12-17T20:00:00",
          "2024-12-18T00:00:00",
          "2024-12-18T02:00:00",
          "2024-12-18T04:00:00",
          "2024-12-18T06:00:00",
          "2024-12-18T08:00:00",
          "2024-12-18T10:00:00",
          "2024-12-18T12:00:00",
          "2024-12-18T16:00:00",
          "2024-12-18T20:00:00",
          "2024-12-18T22:00:00",
          "2024-12-19T00:00:00",
          "2024-12-19T02:00:00",
          "2024-12-19T04:00:00",
          "2024-12-19T06:00:00",
          "2024-12-19T08:00:00",
          "2024-12-19T10:00:00",
          "2024-12-19T14:00:00",
          "2024-12-19T16:00:00",
          "2024-12-19T18:00:00",
          "2024-12-19T20:00:00",
          "2024-12-19T22:00:00",
          "2024-12-20T02:00:00",
          "2024-12-20T04:00:00",
          "2024-12-20T06:00:00",
          "2024-12-20T08:00:00",
          "2024-12-20T10:00:00",
          "2024-12-20T12:00:00",
          "2024-12-20T14:00:00",
          "2024-12-20T16:00:00",
          "2024-12-20T18:00:00",
          "2024-12-20T20:00:00",
          "2024-12-20T22:00:00",
          "2024-12-21T00:00:00",
          "2024-12-21T02:00:00",
          "2024-12-21T04:00:00",
          "2024-12-21T06:00:00",
          "2024-12-21T08:00:00",
          "2024-12-21T10:00:00",
          "2024-12-21T14:00:00",
          "2024-12-21T16:00:00",
          "2024-12-21T18:00:00",
          "2024-12-21T20:00:00",
          "2024-12-21T22:00:00",
          "2024-12-22T00:00:00",
          "2024-12-22T04:00:00",
          "2024-12-22T06:00:00",
          "2024-12-22T08:00:00",
          "2024-12-22T12:00:00",
          "2024-12-22T14:00:00",
          "2024-12-22T16:00:00",
          "2024-12-22T18:00:00",
          "2024-12-22T20:00:00",
          "2024-12-22T22:00:00",
          "2024-12-23T00:00:00",
          "2024-12-23T02:00:00",
          "2024-12-23T06:00:00",
          "2024-12-23T08:00:00",
          "2024-12-23T10:00:00",
          "2024-12-23T12:00:00",
          "2024-12-23T16:00:00",
          "2024-12-23T18:00:00",
          "2024-12-23T20:00:00",
          "2024-12-23T22:00:00",
          "2024-12-24T00:00:00",
          "2024-12-24T02:00:00",
          "2024-12-24T04:00:00",
          "2024-12-24T06:00:00",
          "2024-12-24T08:00:00",
          "2024-12-24T10:00:00",
          "2024-12-24T12:00:00",
          "2024-12-24T14:00:00",
          "2024-12-24T18:00:00",
          "2024-12-24T20:00:00",
          "2024-12-24T22:00:00",
          "2024-12-25T00:00:00",
          "2024-12-25T06:00:00",
          "2024-12-25T08:00:00",
          "2024-12-25T10:00:00",
          "2024-12-25T12:00:00",
          "2024-12-25T14:00:00",
          "2024-12-25T16:00:00",
          "2024-12-25T18:00:00",
          "2024-12-25T22:00:00",
          "2024-12-26T00:00:00",
          "2024-12-26T02:00:00",
          "2024-12-26T04:00:00",
          "2024-12-26T06:00:00",
          "2024-12-26T08:00:00",
          "2024-12-26T10:00:00",
          "2024-12-26T12:00:00",
          "2024-12-26T14:00:00",
          "2024-12-26T16:00:00",
          "2024-12-26T20:00:00",
          "2024-12-26T22:00:00",
          "2024-12-27T00:00:00",
          "2024-12-27T04:00:00",
          "2024-12-27T06:00:00",
          "2024-12-27T08:00:00",
          "2024-12-27T10:00:00",
          "2024-12-27T12:00:00",
          "2024-12-27T14:00:00",
          "2024-12-27T16:00:00",
          "2024-12-27T18:00:00",
          "2024-12-27T20:00:00",
          "2024-12-27T22:00:00",
          "2024-12-28T00:00:00",
          "2024-12-28T02:00:00",
          "2024-12-28T04:00:00",
          "2024-12-28T06:00:00",
          "2024-12-28T08:00:00",
          "2024-12-28T10:00:00",
          "2024-12-28T12:00:00",
          "2024-12-28T16:00:00",
          "2024-12-28T18:00:00",
          "2024-12-28T20:00:00",
          "2024-12-28T22:00:00"
         ],
         "y": [
          0.14891369936870696,
          0.1319681097623674,
          0.1317474974256579,
          0.14574335719849332,
          0.14563571558497032,
          0.1269143015856275,
          0.12114787015644791,
          0.1033746635384924,
          0.12686020381515073,
          0.10788115155959856,
          0.12796029194556077,
          0.14291985376137428,
          0.10129888621716335,
          0.12232854038550973,
          0.10556484383799478,
          0.12984972242864576,
          0.14583022282792807,
          0.14856512424405152,
          0.15806621855582745,
          0.16051099825356321,
          0.13955463279996844,
          0.17439240615082438,
          0.18255847197832545,
          0.1766166579861296,
          0.182648644609044,
          0.20084806294967766,
          0.18935733530557866,
          0.23408713019305274,
          0.23600412781236077,
          0.21194881196767407,
          0.22512713265003667,
          0.21632579308562994,
          0.21888681078351335,
          0.2673194250803523,
          0.2297090736686491,
          0.20564387300774145,
          0.19052522859059662,
          0.2063464711340718,
          0.2063468330728631,
          0.23002636757522923,
          0.2500381927455264,
          0.24847498388442352,
          0.20069652623585882,
          0.21951759525010195,
          0.23694700971326152,
          0.18888939975020538,
          0.1767191059829016,
          0.1860803039214663,
          0.20628599996154756,
          0.211572228243842,
          0.21073456091341752,
          0.2371020127105831,
          0.22491091563756338,
          0.2233662472319501,
          0.21415373196915577,
          0.2414391960970228,
          0.23125987526336123,
          0.2098141052541894,
          0.1904060850671479,
          0.23457724355866544,
          0.1995581191753741,
          0.16892133923776825,
          0.19897538887201005,
          0.19690181492266148,
          0.17707382712159903,
          0.1866046329580262,
          0.16503684460579746,
          0.1565608481220892,
          0.1334399371379698,
          0.13326258030813468,
          0.14860213793148,
          0.15934101711132004,
          0.11276212972518285,
          0.1,
          0.1,
          0.13913053208874304,
          0.1769445324270247,
          0.1367877280339038,
          0.15820465793685196,
          0.16369234455095447,
          0.13556475339067786,
          0.15184497542752334,
          0.15171405092931645,
          0.11030506050270442,
          0.1,
          0.11118908603899431,
          0.1,
          0.1,
          0.1,
          0.1,
          0.1102929404393374,
          0.1208176553972455,
          0.12159102161885697,
          0.10749321129978881,
          0.11377744904683305,
          0.11929891374538616,
          0.1183124005957054,
          0.13847661245069354,
          0.11309689687848018,
          0.11642071464194585,
          0.10864720875310128,
          0.12159225961822165,
          0.13100642090140316,
          0.1409390984375438,
          0.12002076895579868,
          0.11619461461945194,
          0.1,
          0.10909327941205102,
          0.12973218815558427,
          0.10584730187068393,
          0.1,
          0.1,
          0.1,
          0.1,
          0.11206400117411403,
          0.1387055955360435,
          0.17354371957107434,
          0.17752611319799558,
          0.18257386661545635,
          0.1360848395462591,
          0.12804121391187084,
          0.14553064154498827,
          0.12634870781369129,
          0.11644619488829014,
          0.13965360882806224,
          0.15586056312105764,
          0.12790152276781575,
          0.13181386410506216,
          0.1,
          0.1,
          0.1,
          0.10774396895849464,
          0.1,
          0.1,
          0.1,
          0.11058231059661094,
          0.1,
          0.1,
          0.14573933080093976,
          0.15765810812918984,
          0.20607830515161632,
          0.18854202198887277,
          0.19228554704948686,
          0.19021738018948814,
          0.15293619323550106,
          0.16579088703214756,
          0.19404053507791158,
          0.18174820912566247,
          0.20100708877949966,
          0.16084717771502086,
          0.14382057830184924,
          0.1505260195720831,
          0.16162617703038273,
          0.16344281936263474,
          0.18613179406724595,
          0.17165469429759217,
          0.18310239432739744,
          0.1701385615587035,
          0.1805225745979973,
          0.19944458004230026,
          0.1823158239976122,
          0.17507708943598593,
          0.1902130384310408,
          0.20840192927941664,
          0.2168474068921599,
          0.21979284985821956,
          0.2618664833237121,
          0.24380206186148032,
          0.24418905467557486,
          0.23472472571906966,
          0.25762021636492094,
          0.28149732371168823,
          0.3067430046072917,
          0.30901549344913964,
          0.32738630890851017,
          0.3412613764790062,
          0.3112584906463935,
          0.3398814360614196,
          0.3336619486185507,
          0.33733414792457805,
          0.33862612666000985,
          0.3842023245292122,
          0.3891022342348688,
          0.4021734345893932,
          0.3995174855788246,
          0.3880390623453053,
          0.4027956061598335,
          0.39632587386105034,
          0.35957176523001894,
          0.3840956864618208,
          0.372535663680583,
          0.34212340127444163,
          0.3311327176987249,
          0.3121049920316627,
          0.3026820547578663,
          0.32528713732103176,
          0.3717802875367617,
          0.35038524806013094,
          0.30992082055163617,
          0.34512996401310814,
          0.33323182158496584,
          0.3541930731698987,
          0.35019056001321136,
          0.3724751676991554,
          0.3385444345314839,
          0.35276682247150093,
          0.331932318331287,
          0.3549060550354955,
          0.3863193702883138,
          0.405152433481902,
          0.38866248612755316,
          0.3782839771735991,
          0.38468699385821126,
          0.3360240805750742,
          0.37573084123331074,
          0.35267615707260985,
          0.32425020775567454,
          0.32982079526417457,
          0.3274868867006063,
          0.34235610184431675,
          0.30583740771371104,
          0.29033918864160047,
          0.2884487298660033,
          0.28027662162716765,
          0.291331758993621,
          0.2746850143412201,
          0.26468818712772957,
          0.27920263577825477,
          0.3091477648663179,
          0.33217610725945385,
          0.3530637177279074,
          0.36983040421017954,
          0.38480573624743647,
          0.39381778854501576,
          0.4133035791814493,
          0.4166100528661495,
          0.4130965524847112,
          0.41961626717883294,
          0.4158375084304662,
          0.3727562211296073,
          0.392011980371881,
          0.4279217099421571,
          0.4319102297868702,
          0.40865547528313273,
          0.4284403903167819,
          0.43944688761059264,
          0.4615216044101036,
          0.4801352547449387,
          0.45938397687356125,
          0.46619405044233053,
          0.41638017278677075,
          0.43880185998261156,
          0.4372378871039527,
          0.4631249668217781,
          0.4873871563558425,
          0.45368288571974597,
          0.47577191745577546,
          0.46506704155744594,
          0.4582467429798712,
          0.45917854403363345,
          0.45621990056144535,
          0.4246949419440296,
          0.39384388949720034,
          0.42361307470682397,
          0.41606562595519586,
          0.40928872756293755,
          0.4253694331700426,
          0.4251187364134595,
          0.41900727144809335,
          0.41947950152002195,
          0.3927299556409108,
          0.3757670059820963,
          0.4003378669427629,
          0.3765026023672783,
          0.39117024545741114,
          0.4092000420855018,
          0.422505790952616,
          0.4192199831729329,
          0.3802753105318035,
          0.40433139584748423,
          0.38802984971338983,
          0.3852747523816397,
          0.3360699647018748,
          0.2874215310969095,
          0.2802160703135195,
          0.26509906823924473,
          0.2593677467949872,
          0.2776532703568616,
          0.3113509790340118,
          0.35970127814289693,
          0.36240307380537795,
          0.3830090866493407,
          0.35742533509116137,
          0.3449280329832289,
          0.30296900789997233,
          0.2988729496390163,
          0.30818817723239295,
          0.27157503529717175,
          0.26070783167881517,
          0.22346373447131648,
          0.23005303357860057,
          0.22862442079035175,
          0.21241369230860502,
          0.23402858568533208,
          0.24887362992232645,
          0.24788861257374864,
          0.2301742106862814,
          0.23556731306268142
         ]
        }
       ],
       "layout": {
        "hovermode": "x unified",
        "template": {
         "data": {
          "bar": [
           {
            "error_x": {
             "color": "#2a3f5f"
            },
            "error_y": {
             "color": "#2a3f5f"
            },
            "marker": {
             "line": {
              "color": "#E5ECF6",
              "width": 0.5
             },
             "pattern": {
              "fillmode": "overlay",
              "size": 10,
              "solidity": 0.2
             }
            },
            "type": "bar"
           }
          ],
          "barpolar": [
           {
            "marker": {
             "line": {
              "color": "#E5ECF6",
              "width": 0.5
             },
             "pattern": {
              "fillmode": "overlay",
              "size": 10,
              "solidity": 0.2
             }
            },
            "type": "barpolar"
           }
          ],
          "carpet": [
           {
            "aaxis": {
             "endlinecolor": "#2a3f5f",
             "gridcolor": "white",
             "linecolor": "white",
             "minorgridcolor": "white",
             "startlinecolor": "#2a3f5f"
            },
            "baxis": {
             "endlinecolor": "#2a3f5f",
             "gridcolor": "white",
             "linecolor": "white",
             "minorgridcolor": "white",
             "startlinecolor": "#2a3f5f"
            },
            "type": "carpet"
           }
          ],
          "choropleth": [
           {
            "colorbar": {
             "outlinewidth": 0,
             "ticks": ""
            },
            "type": "choropleth"
           }
          ],
          "contour": [
           {
            "colorbar": {
             "outlinewidth": 0,
             "ticks": ""
            },
            "colorscale": [
             [
              0,
              "#0d0887"
             ],
             [
              0.1111111111111111,
              "#46039f"
             ],
             [
              0.2222222222222222,
              "#7201a8"
             ],
             [
              0.3333333333333333,
              "#9c179e"
             ],
             [
              0.4444444444444444,
              "#bd3786"
             ],
             [
              0.5555555555555556,
              "#d8576b"
             ],
             [
              0.6666666666666666,
              "#ed7953"
             ],
             [
              0.7777777777777778,
              "#fb9f3a"
             ],
             [
              0.8888888888888888,
              "#fdca26"
             ],
             [
              1,
              "#f0f921"
             ]
            ],
            "type": "contour"
           }
          ],
          "contourcarpet": [
           {
            "colorbar": {
             "outlinewidth": 0,
             "ticks": ""
            },
            "type": "contourcarpet"
           }
          ],
          "heatmap": [
           {
            "colorbar": {
             "outlinewidth": 0,
             "ticks": ""
            },
            "colorscale": [
             [
              0,
              "#0d0887"
             ],
             [
              0.1111111111111111,
              "#46039f"
             ],
             [
              0.2222222222222222,
              "#7201a8"
             ],
             [
              0.3333333333333333,
              "#9c179e"
             ],
             [
              0.4444444444444444,
              "#bd3786"
             ],
             [
              0.5555555555555556,
              "#d8576b"
             ],
             [
              0.6666666666666666,
              "#ed7953"
             ],
             [
              0.7777777777777778,
              "#fb9f3a"
             ],
             [
              0.8888888888888888,
              "#fdca26"
             ],
             [
              1,
              "#f0f921"
             ]
            ],
            "type": "heatmap"
           }
          ],
          "heatmapgl": [
           {
            "colorbar": {
             "outlinewidth": 0,
             "ticks": ""
            },
            "colorscale": [
             [
              0,
              "#0d0887"
             ],
             [
              0.1111111111111111,
              "#46039f"
             ],
             [
              0.2222222222222222,
              "#7201a8"
             ],
             [
              0.3333333333333333,
              "#9c179e"
             ],
             [
              0.4444444444444444,
              "#bd3786"
             ],
             [
              0.5555555555555556,
              "#d8576b"
             ],
             [
              0.6666666666666666,
              "#ed7953"
             ],
             [
              0.7777777777777778,
              "#fb9f3a"
             ],
             [
              0.8888888888888888,
              "#fdca26"
             ],
             [
              1,
              "#f0f921"
             ]
            ],
            "type": "heatmapgl"
           }
          ],
          "histogram": [
           {
            "marker": {
             "pattern": {
              "fillmode": "overlay",
              "size": 10,
              "solidity": 0.2
             }
            },
            "type": "histogram"
           }
          ],
          "histogram2d": [
           {
            "colorbar": {
             "outlinewidth": 0,
             "ticks": ""
            },
            "colorscale": [
             [
              0,
              "#0d0887"
             ],
             [
              0.1111111111111111,
              "#46039f"
             ],
             [
              0.2222222222222222,
              "#7201a8"
             ],
             [
              0.3333333333333333,
              "#9c179e"
             ],
             [
              0.4444444444444444,
              "#bd3786"
             ],
             [
              0.5555555555555556,
              "#d8576b"
             ],
             [
              0.6666666666666666,
              "#ed7953"
             ],
             [
              0.7777777777777778,
              "#fb9f3a"
             ],
             [
              0.8888888888888888,
              "#fdca26"
             ],
             [
              1,
              "#f0f921"
             ]
            ],
            "type": "histogram2d"
           }
          ],
          "histogram2dcontour": [
           {
            "colorbar": {
             "outlinewidth": 0,
             "ticks": ""
            },
            "colorscale": [
             [
              0,
              "#0d0887"
             ],
             [
              0.1111111111111111,
              "#46039f"
             ],
             [
              0.2222222222222222,
              "#7201a8"
             ],
             [
              0.3333333333333333,
              "#9c179e"
             ],
             [
              0.4444444444444444,
              "#bd3786"
             ],
             [
              0.5555555555555556,
              "#d8576b"
             ],
             [
              0.6666666666666666,
              "#ed7953"
             ],
             [
              0.7777777777777778,
              "#fb9f3a"
             ],
             [
              0.8888888888888888,
              "#fdca26"
             ],
             [
              1,
              "#f0f921"
             ]
            ],
            "type": "histogram2dcontour"
           }
          ],
          "mesh3d": [
           {
            "colorbar": {
             "outlinewidth": 0,
             "ticks": ""
            },
            "type": "mesh3d"
           }
          ],
          "parcoords": [
           {
            "line": {
             "colorbar": {
              "outlinewidth": 0,
              "ticks": ""
             }
            },
            "type": "parcoords"
           }
          ],
          "pie": [
           {
            "automargin": true,
            "type": "pie"
           }
          ],
          "scatter": [
           {
            "fillpattern": {
             "fillmode": "overlay",
             "size": 10,
             "solidity": 0.2
            },
            "type": "scatter"
           }
          ],
          "scatter3d": [
           {
            "line": {
             "colorbar": {
              "outlinewidth": 0,
              "ticks": ""
             }
            },
            "marker": {
             "colorbar": {
              "outlinewidth": 0,
              "ticks": ""
             }
            },
            "type": "scatter3d"
           }
          ],
          "scattercarpet": [
           {
            "marker": {
             "colorbar": {
              "outlinewidth": 0,
              "ticks": ""
             }
            },
            "type": "scattercarpet"
           }
          ],
          "scattergeo": [
           {
            "marker": {
             "colorbar": {
              "outlinewidth": 0,
              "ticks": ""
             }
            },
            "type": "scattergeo"
           }
          ],
          "scattergl": [
           {
            "marker": {
             "colorbar": {
              "outlinewidth": 0,
              "ticks": ""
             }
            },
            "type": "scattergl"
           }
          ],
          "scattermapbox": [
           {
            "marker": {
             "colorbar": {
              "outlinewidth": 0,
              "ticks": ""
             }
            },
            "type": "scattermapbox"
           }
          ],
          "scatterpolar": [
           {
            "marker": {
             "colorbar": {
              "outlinewidth": 0,
              "ticks": ""
             }
            },
            "type": "scatterpolar"
           }
          ],
          "scatterpolargl": [
           {
            "marker": {
             "colorbar": {
              "outlinewidth": 0,
              "ticks": ""
             }
            },
            "type": "scatterpolargl"
           }
          ],
          "scatterternary": [
           {
            "marker": {
             "colorbar": {
              "outlinewidth": 0,
              "ticks": ""
             }
            },
            "type": "scatterternary"
           }
          ],
          "surface": [
           {
            "colorbar": {
             "outlinewidth": 0,
             "ticks": ""
            },
            "colorscale": [
             [
              0,
              "#0d0887"
             ],
             [
              0.1111111111111111,
              "#46039f"
             ],
             [
              0.2222222222222222,
              "#7201a8"
             ],
             [
              0.3333333333333333,
              "#9c179e"
             ],
             [
              0.4444444444444444,
              "#bd3786"
             ],
             [
              0.5555555555555556,
              "#d8576b"
             ],
             [
              0.6666666666666666,
              "#ed7953"
             ],
             [
              0.7777777777777778,
              "#fb9f3a"
             ],
             [
              0.8888888888888888,
              "#fdca26"
             ],
             [
              1,
              "#f0f921"
             ]
            ],
            "type": "surface"
           }
          ],
          "table": [
           {
            "cells": {
             "fill": {
              "color": "#EBF0F8"
             },
             "line": {
              "color": "white"
             }
            },
            "header": {
             "fill": {
              "color": "#C8D4E3"
             },
             "line": {
              "color": "white"
             }
            },
            "type": "table"
           }
          ]
         },
         "layout": {
          "annotationdefaults": {
           "arrowcolor": "#2a3f5f",
           "arrowhead": 0,
           "arrowwidth": 1
          },
          "autotypenumbers": "strict",
          "coloraxis": {
           "colorbar": {
            "outlinewidth": 0,
            "ticks": ""
           }
          },
          "colorscale": {
           "diverging": [
            [
             0,
             "#8e0152"
            ],
            [
             0.1,
             "#c51b7d"
            ],
            [
             0.2,
             "#de77ae"
            ],
            [
             0.3,
             "#f1b6da"
            ],
            [
             0.4,
             "#fde0ef"
            ],
            [
             0.5,
             "#f7f7f7"
            ],
            [
             0.6,
             "#e6f5d0"
            ],
            [
             0.7,
             "#b8e186"
            ],
            [
             0.8,
             "#7fbc41"
            ],
            [
             0.9,
             "#4d9221"
            ],
            [
             1,
             "#276419"
            ]
           ],
           "sequential": [
            [
             0,
             "#0d0887"
            ],
            [
             0.1111111111111111,
             "#46039f"
            ],
            [
             0.2222222222222222,
             "#7201a8"
            ],
            [
             0.3333333333333333,
             "#9c179e"
            ],
            [
             0.4444444444444444,
             "#bd3786"
            ],
            [
             0.5555555555555556,
             "#d8576b"
            ],
            [
             0.6666666666666666,
             "#ed7953"
            ],
            [
             0.7777777777777778,
             "#fb9f3a"
            ],
            [
             0.8888888888888888,
             "#fdca26"
            ],
            [
             1,
             "#f0f921"
            ]
           ],
           "sequentialminus": [
            [
             0,
             "#0d0887"
            ],
            [
             0.1111111111111111,
             "#46039f"
            ],
            [
             0.2222222222222222,
             "#7201a8"
            ],
            [
             0.3333333333333333,
             "#9c179e"
            ],
            [
             0.4444444444444444,
             "#bd3786"
            ],
            [
             0.5555555555555556,
             "#d8576b"
            ],
            [
             0.6666666666666666,
             "#ed7953"
            ],
            [
             0.7777777777777778,
             "#fb9f3a"
            ],
            [
             0.8888888888888888,
             "#fdca26"
            ],
            [
             1,
             "#f0f921"
            ]
           ]
          },
          "colorway": [
           "#636efa",
           "#EF553B",
           "#00cc96",
           "#ab63fa",
           "#FFA15A",
           "#19d3f3",
           "#FF6692",
           "#B6E880",
           "#FF97FF",
           "#FECB52"
          ],
          "font": {
           "color": "#2a3f5f"
          },
          "geo": {
           "bgcolor": "white",
           "lakecolor": "white",
           "landcolor": "#E5ECF6",
           "showlakes": true,
           "showland": true,
           "subunitcolor": "white"
          },
          "hoverlabel": {
           "align": "left"
          },
          "hovermode": "closest",
          "mapbox": {
           "style": "light"
          },
          "paper_bgcolor": "white",
          "plot_bgcolor": "#E5ECF6",
          "polar": {
           "angularaxis": {
            "gridcolor": "white",
            "linecolor": "white",
            "ticks": ""
           },
           "bgcolor": "#E5ECF6",
           "radialaxis": {
            "gridcolor": "white",
            "linecolor": "white",
            "ticks": ""
           }
          },
          "scene": {
           "xaxis": {
            "backgroundcolor": "#E5ECF6",
            "gridcolor": "white",
            "gridwidth": 2,
            "linecolor": "white",
            "showbackground": true,
            "ticks": "",
            "zerolinecolor": "white"
           },
           "yaxis": {
            "backgroundcolor": "#E5ECF6",
            "gridcolor": "white",
            "gridwidth": 2,
            "linecolor": "white",
            "showbackground": true,
            "ticks": "",
            "zerolinecolor": "white"
           },
           "zaxis": {
            "backgroundcolor": "#E5ECF6",
            "gridcolor": "white",
            "gridwidth": 2,
            "linecolor": "white",
            "showbackground": true,
            "ticks": "",
            "zerolinecolor": "white"
           }
          },
          "shapedefaults": {
           "line": {
            "color": "#2a3f5f"
           }
          },
          "ternary": {
           "aaxis": {
            "gridcolor": "white",
            "linecolor": "white",
            "ticks": ""
           },
           "baxis": {
            "gridcolor": "white",
            "linecolor": "white",
            "ticks": ""
           },
           "bgcolor": "#E5ECF6",
           "caxis": {
            "gridcolor": "white",
            "linecolor": "white",
            "ticks": ""
           }
          },
          "title": {
           "x": 0.05
          },
          "xaxis": {
           "automargin": true,
           "gridcolor": "white",
           "linecolor": "white",
           "ticks": "",
           "title": {
            "standoff": 15
           },
           "zerolinecolor": "white",
           "zerolinewidth": 2
          },
          "yaxis": {
           "automargin": true,
           "gridcolor": "white",
           "linecolor": "white",
           "ticks": "",
           "title": {
            "standoff": 15
           },
           "zerolinecolor": "white",
           "zerolinewidth": 2
          }
         }
        },
        "title": {
         "text": "Historical Septic Shock Score for Patient 12"
        },
        "xaxis": {
         "dtick": "M7200000",
         "showgrid": true,
         "tickangle": -45,
         "ticktext": [
          "",
          "",
          "",
          "",
          "",
          "",
          "",
          "",
          "",
          "",
          "",
          "2024-12-02",
          "",
          "",
          "",
          "",
          "",
          "",
          "",
          "",
          "",
          "",
          "",
          "2024-12-03",
          "",
          "",
          "",
          "",
          "",
          "",
          "",
          "",
          "",
          "",
          "",
          "2024-12-04",
          "",
          "",
          "",
          "",
          "",
          "",
          "",
          "",
          "",
          "",
          "",
          "2024-12-05",
          "",
          "",
          "",
          "",
          "",
          "",
          "",
          "",
          "",
          "",
          "",
          "2024-12-06",
          "",
          "",
          "",
          "",
          "",
          "",
          "",
          "",
          "",
          "",
          "",
          "2024-12-07",
          "",
          "",
          "",
          "",
          "",
          "",
          "",
          "",
          "",
          "",
          "",
          "2024-12-08",
          "",
          "",
          "",
          "",
          "",
          "",
          "",
          "",
          "",
          "",
          "",
          "2024-12-09",
          "",
          "",
          "",
          "",
          "",
          "",
          "",
          "",
          "",
          "",
          "",
          "2024-12-10",
          "",
          "",
          "",
          "",
          "",
          "",
          "",
          "",
          "",
          "",
          "",
          "2024-12-11",
          "",
          "",
          "",
          "",
          "",
          "",
          "",
          "",
          "",
          "",
          "",
          "2024-12-12",
          "",
          "",
          "",
          "",
          "",
          "",
          "",
          "",
          "",
          "",
          "",
          "2024-12-13",
          "",
          "",
          "",
          "",
          "",
          "",
          "",
          "",
          "",
          "",
          "",
          "2024-12-14",
          "",
          "",
          "",
          "",
          "",
          "",
          "",
          "",
          "",
          "",
          "",
          "2024-12-15",
          "",
          "",
          "",
          "",
          "",
          "",
          "",
          "",
          "",
          "",
          "",
          "2024-12-16",
          "",
          "",
          "",
          "",
          "",
          "",
          "",
          "",
          "",
          "",
          "",
          "2024-12-17",
          "",
          "",
          "",
          "",
          "",
          "",
          "",
          "",
          "",
          "",
          "",
          "2024-12-18",
          "",
          "",
          "",
          "",
          "",
          "",
          "",
          "",
          "",
          "",
          "",
          "2024-12-19",
          "",
          "",
          "",
          "",
          "",
          "",
          "",
          "",
          "",
          "",
          "",
          "2024-12-20",
          "",
          "",
          "",
          "",
          "",
          "",
          "",
          "",
          "",
          "",
          "",
          "2024-12-21",
          "",
          "",
          "",
          "",
          "",
          "",
          "",
          "",
          "",
          "",
          "",
          "2024-12-22",
          "",
          "",
          "",
          "",
          "",
          "",
          "",
          "",
          "",
          "",
          "",
          "2024-12-23",
          "",
          "",
          "",
          "",
          "",
          "",
          "",
          "",
          "",
          "",
          "",
          "2024-12-24",
          "",
          "",
          "",
          "",
          "",
          "",
          "",
          "",
          "",
          "",
          "",
          "2024-12-25",
          "",
          "",
          "",
          "",
          "",
          "",
          "",
          "",
          "",
          "",
          "",
          "2024-12-26",
          "",
          "",
          "",
          "",
          "",
          "",
          "",
          "",
          "",
          "",
          "",
          "2024-12-27",
          "",
          "",
          "",
          "",
          "",
          "",
          "",
          "",
          "",
          "",
          "",
          "2024-12-28",
          "",
          "",
          "",
          "",
          "",
          "",
          "",
          "",
          "",
          "",
          ""
         ],
         "tickvals": [
          "2024-12-01T02:00:00",
          "2024-12-01T04:00:00",
          "2024-12-01T06:00:00",
          "2024-12-01T08:00:00",
          "2024-12-01T10:00:00",
          "2024-12-01T12:00:00",
          "2024-12-01T14:00:00",
          "2024-12-01T16:00:00",
          "2024-12-01T18:00:00",
          "2024-12-01T20:00:00",
          "2024-12-01T22:00:00",
          "2024-12-02T00:00:00",
          "2024-12-02T02:00:00",
          "2024-12-02T04:00:00",
          "2024-12-02T06:00:00",
          "2024-12-02T08:00:00",
          "2024-12-02T10:00:00",
          "2024-12-02T12:00:00",
          "2024-12-02T14:00:00",
          "2024-12-02T16:00:00",
          "2024-12-02T18:00:00",
          "2024-12-02T20:00:00",
          "2024-12-02T22:00:00",
          "2024-12-03T00:00:00",
          "2024-12-03T02:00:00",
          "2024-12-03T04:00:00",
          "2024-12-03T06:00:00",
          "2024-12-03T08:00:00",
          "2024-12-03T10:00:00",
          "2024-12-03T12:00:00",
          "2024-12-03T14:00:00",
          "2024-12-03T16:00:00",
          "2024-12-03T18:00:00",
          "2024-12-03T20:00:00",
          "2024-12-03T22:00:00",
          "2024-12-04T00:00:00",
          "2024-12-04T02:00:00",
          "2024-12-04T04:00:00",
          "2024-12-04T06:00:00",
          "2024-12-04T08:00:00",
          "2024-12-04T10:00:00",
          "2024-12-04T12:00:00",
          "2024-12-04T14:00:00",
          "2024-12-04T16:00:00",
          "2024-12-04T18:00:00",
          "2024-12-04T20:00:00",
          "2024-12-04T22:00:00",
          "2024-12-05T00:00:00",
          "2024-12-05T02:00:00",
          "2024-12-05T04:00:00",
          "2024-12-05T06:00:00",
          "2024-12-05T08:00:00",
          "2024-12-05T10:00:00",
          "2024-12-05T12:00:00",
          "2024-12-05T14:00:00",
          "2024-12-05T16:00:00",
          "2024-12-05T18:00:00",
          "2024-12-05T20:00:00",
          "2024-12-05T22:00:00",
          "2024-12-06T00:00:00",
          "2024-12-06T02:00:00",
          "2024-12-06T04:00:00",
          "2024-12-06T06:00:00",
          "2024-12-06T08:00:00",
          "2024-12-06T10:00:00",
          "2024-12-06T12:00:00",
          "2024-12-06T14:00:00",
          "2024-12-06T16:00:00",
          "2024-12-06T18:00:00",
          "2024-12-06T20:00:00",
          "2024-12-06T22:00:00",
          "2024-12-07T00:00:00",
          "2024-12-07T02:00:00",
          "2024-12-07T04:00:00",
          "2024-12-07T06:00:00",
          "2024-12-07T08:00:00",
          "2024-12-07T10:00:00",
          "2024-12-07T12:00:00",
          "2024-12-07T14:00:00",
          "2024-12-07T16:00:00",
          "2024-12-07T18:00:00",
          "2024-12-07T20:00:00",
          "2024-12-07T22:00:00",
          "2024-12-08T00:00:00",
          "2024-12-08T02:00:00",
          "2024-12-08T04:00:00",
          "2024-12-08T06:00:00",
          "2024-12-08T08:00:00",
          "2024-12-08T10:00:00",
          "2024-12-08T12:00:00",
          "2024-12-08T14:00:00",
          "2024-12-08T16:00:00",
          "2024-12-08T18:00:00",
          "2024-12-08T20:00:00",
          "2024-12-08T22:00:00",
          "2024-12-09T00:00:00",
          "2024-12-09T02:00:00",
          "2024-12-09T04:00:00",
          "2024-12-09T06:00:00",
          "2024-12-09T08:00:00",
          "2024-12-09T10:00:00",
          "2024-12-09T12:00:00",
          "2024-12-09T14:00:00",
          "2024-12-09T16:00:00",
          "2024-12-09T18:00:00",
          "2024-12-09T20:00:00",
          "2024-12-09T22:00:00",
          "2024-12-10T00:00:00",
          "2024-12-10T02:00:00",
          "2024-12-10T04:00:00",
          "2024-12-10T06:00:00",
          "2024-12-10T08:00:00",
          "2024-12-10T10:00:00",
          "2024-12-10T12:00:00",
          "2024-12-10T14:00:00",
          "2024-12-10T16:00:00",
          "2024-12-10T18:00:00",
          "2024-12-10T20:00:00",
          "2024-12-10T22:00:00",
          "2024-12-11T00:00:00",
          "2024-12-11T02:00:00",
          "2024-12-11T04:00:00",
          "2024-12-11T06:00:00",
          "2024-12-11T08:00:00",
          "2024-12-11T10:00:00",
          "2024-12-11T12:00:00",
          "2024-12-11T14:00:00",
          "2024-12-11T16:00:00",
          "2024-12-11T18:00:00",
          "2024-12-11T20:00:00",
          "2024-12-11T22:00:00",
          "2024-12-12T00:00:00",
          "2024-12-12T02:00:00",
          "2024-12-12T04:00:00",
          "2024-12-12T06:00:00",
          "2024-12-12T08:00:00",
          "2024-12-12T10:00:00",
          "2024-12-12T12:00:00",
          "2024-12-12T14:00:00",
          "2024-12-12T16:00:00",
          "2024-12-12T18:00:00",
          "2024-12-12T20:00:00",
          "2024-12-12T22:00:00",
          "2024-12-13T00:00:00",
          "2024-12-13T02:00:00",
          "2024-12-13T04:00:00",
          "2024-12-13T06:00:00",
          "2024-12-13T08:00:00",
          "2024-12-13T10:00:00",
          "2024-12-13T12:00:00",
          "2024-12-13T14:00:00",
          "2024-12-13T16:00:00",
          "2024-12-13T18:00:00",
          "2024-12-13T20:00:00",
          "2024-12-13T22:00:00",
          "2024-12-14T00:00:00",
          "2024-12-14T02:00:00",
          "2024-12-14T04:00:00",
          "2024-12-14T06:00:00",
          "2024-12-14T08:00:00",
          "2024-12-14T10:00:00",
          "2024-12-14T12:00:00",
          "2024-12-14T14:00:00",
          "2024-12-14T16:00:00",
          "2024-12-14T18:00:00",
          "2024-12-14T20:00:00",
          "2024-12-14T22:00:00",
          "2024-12-15T00:00:00",
          "2024-12-15T02:00:00",
          "2024-12-15T04:00:00",
          "2024-12-15T06:00:00",
          "2024-12-15T08:00:00",
          "2024-12-15T10:00:00",
          "2024-12-15T12:00:00",
          "2024-12-15T14:00:00",
          "2024-12-15T16:00:00",
          "2024-12-15T18:00:00",
          "2024-12-15T20:00:00",
          "2024-12-15T22:00:00",
          "2024-12-16T00:00:00",
          "2024-12-16T02:00:00",
          "2024-12-16T04:00:00",
          "2024-12-16T06:00:00",
          "2024-12-16T08:00:00",
          "2024-12-16T10:00:00",
          "2024-12-16T12:00:00",
          "2024-12-16T14:00:00",
          "2024-12-16T16:00:00",
          "2024-12-16T18:00:00",
          "2024-12-16T20:00:00",
          "2024-12-16T22:00:00",
          "2024-12-17T00:00:00",
          "2024-12-17T02:00:00",
          "2024-12-17T04:00:00",
          "2024-12-17T06:00:00",
          "2024-12-17T08:00:00",
          "2024-12-17T10:00:00",
          "2024-12-17T12:00:00",
          "2024-12-17T14:00:00",
          "2024-12-17T16:00:00",
          "2024-12-17T18:00:00",
          "2024-12-17T20:00:00",
          "2024-12-17T22:00:00",
          "2024-12-18T00:00:00",
          "2024-12-18T02:00:00",
          "2024-12-18T04:00:00",
          "2024-12-18T06:00:00",
          "2024-12-18T08:00:00",
          "2024-12-18T10:00:00",
          "2024-12-18T12:00:00",
          "2024-12-18T14:00:00",
          "2024-12-18T16:00:00",
          "2024-12-18T18:00:00",
          "2024-12-18T20:00:00",
          "2024-12-18T22:00:00",
          "2024-12-19T00:00:00",
          "2024-12-19T02:00:00",
          "2024-12-19T04:00:00",
          "2024-12-19T06:00:00",
          "2024-12-19T08:00:00",
          "2024-12-19T10:00:00",
          "2024-12-19T12:00:00",
          "2024-12-19T14:00:00",
          "2024-12-19T16:00:00",
          "2024-12-19T18:00:00",
          "2024-12-19T20:00:00",
          "2024-12-19T22:00:00",
          "2024-12-20T00:00:00",
          "2024-12-20T02:00:00",
          "2024-12-20T04:00:00",
          "2024-12-20T06:00:00",
          "2024-12-20T08:00:00",
          "2024-12-20T10:00:00",
          "2024-12-20T12:00:00",
          "2024-12-20T14:00:00",
          "2024-12-20T16:00:00",
          "2024-12-20T18:00:00",
          "2024-12-20T20:00:00",
          "2024-12-20T22:00:00",
          "2024-12-21T00:00:00",
          "2024-12-21T02:00:00",
          "2024-12-21T04:00:00",
          "2024-12-21T06:00:00",
          "2024-12-21T08:00:00",
          "2024-12-21T10:00:00",
          "2024-12-21T12:00:00",
          "2024-12-21T14:00:00",
          "2024-12-21T16:00:00",
          "2024-12-21T18:00:00",
          "2024-12-21T20:00:00",
          "2024-12-21T22:00:00",
          "2024-12-22T00:00:00",
          "2024-12-22T02:00:00",
          "2024-12-22T04:00:00",
          "2024-12-22T06:00:00",
          "2024-12-22T08:00:00",
          "2024-12-22T10:00:00",
          "2024-12-22T12:00:00",
          "2024-12-22T14:00:00",
          "2024-12-22T16:00:00",
          "2024-12-22T18:00:00",
          "2024-12-22T20:00:00",
          "2024-12-22T22:00:00",
          "2024-12-23T00:00:00",
          "2024-12-23T02:00:00",
          "2024-12-23T04:00:00",
          "2024-12-23T06:00:00",
          "2024-12-23T08:00:00",
          "2024-12-23T10:00:00",
          "2024-12-23T12:00:00",
          "2024-12-23T14:00:00",
          "2024-12-23T16:00:00",
          "2024-12-23T18:00:00",
          "2024-12-23T20:00:00",
          "2024-12-23T22:00:00",
          "2024-12-24T00:00:00",
          "2024-12-24T02:00:00",
          "2024-12-24T04:00:00",
          "2024-12-24T06:00:00",
          "2024-12-24T08:00:00",
          "2024-12-24T10:00:00",
          "2024-12-24T12:00:00",
          "2024-12-24T14:00:00",
          "2024-12-24T16:00:00",
          "2024-12-24T18:00:00",
          "2024-12-24T20:00:00",
          "2024-12-24T22:00:00",
          "2024-12-25T00:00:00",
          "2024-12-25T02:00:00",
          "2024-12-25T04:00:00",
          "2024-12-25T06:00:00",
          "2024-12-25T08:00:00",
          "2024-12-25T10:00:00",
          "2024-12-25T12:00:00",
          "2024-12-25T14:00:00",
          "2024-12-25T16:00:00",
          "2024-12-25T18:00:00",
          "2024-12-25T20:00:00",
          "2024-12-25T22:00:00",
          "2024-12-26T00:00:00",
          "2024-12-26T02:00:00",
          "2024-12-26T04:00:00",
          "2024-12-26T06:00:00",
          "2024-12-26T08:00:00",
          "2024-12-26T10:00:00",
          "2024-12-26T12:00:00",
          "2024-12-26T14:00:00",
          "2024-12-26T16:00:00",
          "2024-12-26T18:00:00",
          "2024-12-26T20:00:00",
          "2024-12-26T22:00:00",
          "2024-12-27T00:00:00",
          "2024-12-27T02:00:00",
          "2024-12-27T04:00:00",
          "2024-12-27T06:00:00",
          "2024-12-27T08:00:00",
          "2024-12-27T10:00:00",
          "2024-12-27T12:00:00",
          "2024-12-27T14:00:00",
          "2024-12-27T16:00:00",
          "2024-12-27T18:00:00",
          "2024-12-27T20:00:00",
          "2024-12-27T22:00:00",
          "2024-12-28T00:00:00",
          "2024-12-28T02:00:00",
          "2024-12-28T04:00:00",
          "2024-12-28T06:00:00",
          "2024-12-28T08:00:00",
          "2024-12-28T10:00:00",
          "2024-12-28T12:00:00",
          "2024-12-28T14:00:00",
          "2024-12-28T16:00:00",
          "2024-12-28T18:00:00",
          "2024-12-28T20:00:00",
          "2024-12-28T22:00:00"
         ],
         "title": {
          "text": "Prediction Datetime"
         }
        },
        "yaxis": {
         "rangemode": "tozero",
         "showgrid": true,
         "title": {
          "text": "Septic Shock Score"
         }
        }
       }
      }
     },
     "metadata": {},
     "output_type": "display_data"
    }
   ],
   "source": [
    "import plotly.graph_objects as go\n",
    "\n",
    "# Filter the data for a specific patient\n",
    "patient_id = 12  # Replace with the desired PatientID\n",
    "patient_data = df_simulation[df_simulation[\"PatientID\"] == patient_id]\n",
    "\n",
    "# Create the plot\n",
    "fig = go.Figure()\n",
    "\n",
    "fig.add_trace(\n",
    "    go.Scatter(\n",
    "        x=patient_data[\"prediction_datetime\"],\n",
    "        y=patient_data[\"septic_shock_score\"],\n",
    "        mode=\"lines+markers\",\n",
    "        name=f\"Patient {patient_id} Septic Shock Score\"\n",
    "    )\n",
    ")\n",
    "\n",
    "# Define x-axis ticks and labels\n",
    "tick_vals = pd.date_range(\n",
    "    start=patient_data[\"prediction_datetime\"].min(),\n",
    "    end=patient_data[\"prediction_datetime\"].max(),\n",
    "    freq=\"2H\"\n",
    ")\n",
    "\n",
    "tick_text = [\n",
    "    dt.strftime(\"%Y-%m-%d\") if dt.hour == 0 else \"\" for dt in tick_vals\n",
    "]\n",
    "\n",
    "# Update layout to include date labels at boundaries and ticks for 2-hour intervals\n",
    "fig.update_layout(\n",
    "    title=f\"Historical Septic Shock Score for Patient {patient_id}\",\n",
    "    xaxis_title=\"Prediction Datetime\",\n",
    "    yaxis_title=\"Septic Shock Score\",\n",
    "    xaxis=dict(\n",
    "        tickvals=tick_vals,      # Set tick positions\n",
    "        ticktext=tick_text,      # Set tick labels (date boundary only)\n",
    "        tickangle=-45,           # Rotate date labels for readability\n",
    "        showgrid=True,           # Show grid lines\n",
    "        dtick=\"M7200000\",        # Maintain 2-hour intervals\n",
    "    ),\n",
    "    yaxis=dict(\n",
    "        rangemode=\"tozero\",  # Ensure the y-axis starts at zero\n",
    "        showgrid=True,\n",
    "    ),\n",
    "    hovermode=\"x unified\",  # Show a single hover label for x-axis\n",
    ")\n",
    "\n",
    "# Show the plot\n",
    "fig.show()\n"
   ]
  },
  {
   "cell_type": "code",
   "execution_count": 29,
   "metadata": {},
   "outputs": [
    {
     "data": {
      "text/plain": [
       "PatientID                                 int64\n",
       "room                                      int64\n",
       "Sta6a                                     int64\n",
       "PatientName                              object\n",
       "Trial_ARM                                 int64\n",
       "prediction_datetime              datetime64[ns]\n",
       "respiratory_score                       float64\n",
       "respiratory_class                         int64\n",
       "respiratory_trend                         int64\n",
       "septic_shock_score                      float64\n",
       "septic_shock_class                        int64\n",
       "septic_shock_trend                        int64\n",
       "septic_shock_score_expl_pos_1           float64\n",
       "septic_shock_score_expl_pos_2           float64\n",
       "septic_shock_score_expl_pos_3           float64\n",
       "septic_shock_score_expl_neg_1           float64\n",
       "septic_shock_score_expl_neg_2           float64\n",
       "septic_shock_score_expl_neg_3           float64\n",
       "respitory_score_expl_pos_1              float64\n",
       "respitory_score_expl_pos_2              float64\n",
       "respitory_score_expl_pos_3              float64\n",
       "respitory_score_expl_neg_1              float64\n",
       "respitory_score_expl_neg_2              float64\n",
       "respitory_score_expl_neg_3              float64\n",
       "dtype: object"
      ]
     },
     "execution_count": 29,
     "metadata": {},
     "output_type": "execute_result"
    }
   ],
   "source": [
    "df_simulation.dtypes\n"
   ]
  },
  {
   "cell_type": "code",
   "execution_count": 33,
   "metadata": {},
   "outputs": [
    {
     "data": {
      "text/plain": [
       "0"
      ]
     },
     "execution_count": 33,
     "metadata": {},
     "output_type": "execute_result"
    }
   ],
   "source": []
  }
 ],
 "metadata": {
  "kernelspec": {
   "display_name": "base",
   "language": "python",
   "name": "python3"
  },
  "language_info": {
   "codemirror_mode": {
    "name": "ipython",
    "version": 3
   },
   "file_extension": ".py",
   "mimetype": "text/x-python",
   "name": "python",
   "nbconvert_exporter": "python",
   "pygments_lexer": "ipython3",
   "version": "3.12.7"
  }
 },
 "nbformat": 4,
 "nbformat_minor": 2
}
