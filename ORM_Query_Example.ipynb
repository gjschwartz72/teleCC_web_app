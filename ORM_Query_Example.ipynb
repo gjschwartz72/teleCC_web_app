{
 "cells": [
  {
   "cell_type": "markdown",
   "metadata": {},
   "source": [
    "# ORM Query Example"
   ]
  },
  {
   "cell_type": "markdown",
   "metadata": {},
   "source": [
    "## Connect to the database. "
   ]
  },
  {
   "cell_type": "code",
   "execution_count": 8,
   "metadata": {},
   "outputs": [],
   "source": [
    "from flask import Flask\n",
    "from flask_sqlalchemy import SQLAlchemy\n",
    "import os\n",
    "\n",
    "app = Flask(__name__)\n",
    "app.config['SECRET_KEY'] = 'key_for_csrf_token_required_for_form_data'\n",
    "\n",
    "db_path = os.path.abspath(\"synthetic_data/teleCC.sqlite\")\n",
    "app.config['SQLALCHEMY_DATABASE_URI'] = f\"sqlite:///{db_path}\"\n",
    "\n",
    "# Track modifications is often unnecessary and can be disabled\n",
    "app.config['SQLALCHEMY_TRACK_MODIFICATIONS'] = False\n",
    "\n",
    "db = SQLAlchemy(app)"
   ]
  },
  {
   "cell_type": "markdown",
   "metadata": {},
   "source": [
    "## Get a list of tables"
   ]
  },
  {
   "cell_type": "code",
   "execution_count": 9,
   "metadata": {},
   "outputs": [
    {
     "name": "stdout",
     "output_type": "stream",
     "text": [
      "patient_teleCC\n",
      "patient_teleCC_history\n",
      "patient_teleCC_state\n",
      "station_lookup\n"
     ]
    }
   ],
   "source": [
    "from sqlalchemy import inspect\n",
    "\n",
    "with app.app_context():\n",
    "    inspector = inspect(db.engine)\n",
    "\n",
    "    for table in inspector.get_table_names():\n",
    "        print(table)"
   ]
  },
  {
   "cell_type": "markdown",
   "metadata": {},
   "source": [
    "## Query Using SQL Text  \n",
    "\n",
    "Code below works with the app and db objects import from the web_app module.  \n",
    "So it works after restarting the kernel and running as is.\n",
    "\n",
    "Note that this query method only returns the fields that are in the ORM __repr__() if overwriden.\n",
    "Otherwise it returns a list of objects."
   ]
  },
  {
   "cell_type": "code",
   "execution_count": 10,
   "metadata": {},
   "outputs": [
    {
     "data": {
      "text/plain": [
       "'Charlie Miller'"
      ]
     },
     "execution_count": 10,
     "metadata": {},
     "output_type": "execute_result"
    }
   ],
   "source": [
    "#from web_app import app, db\n",
    "from orm_models import Patient_telecc_state\n",
    "\n",
    "# Specify the desired Sta6a value\n",
    "sta6a_value = 123  # Replace with your target Sta6a value\n",
    "\n",
    "orm_patient = Patient_telecc_state()\n",
    "\n",
    "with app.app_context():\n",
    "    results = db.session.query(Patient_telecc_state).filter(Patient_telecc_state.station_number == sta6a_value).all()\n",
    "\n",
    "results[0].patientName"
   ]
  },
  {
   "cell_type": "code",
   "execution_count": 25,
   "metadata": {},
   "outputs": [
    {
     "data": {
      "text/plain": [
       "14"
      ]
     },
     "execution_count": 25,
     "metadata": {},
     "output_type": "execute_result"
    }
   ],
   "source": [
    "from orm_models import Station_lookup\n",
    "with app.app_context():\n",
    "    station_list = Patient_telecc_state.query.filter_by(station_number = sta6a_value).all()\n",
    "\n",
    "len(station_list)"
   ]
  },
  {
   "cell_type": "code",
   "execution_count": 27,
   "metadata": {},
   "outputs": [
    {
     "data": {
      "text/plain": [
       "'Denver'"
      ]
     },
     "execution_count": 27,
     "metadata": {},
     "output_type": "execute_result"
    }
   ],
   "source": [
    "with app.app_context():\n",
    "    station = Station_lookup.query.filter_by(station_number = sta6a_value).all()\n",
    "\n",
    "station[0].station_name"
   ]
  },
  {
   "cell_type": "markdown",
   "metadata": {},
   "source": [
    "## Query using the ORM"
   ]
  },
  {
   "cell_type": "code",
   "execution_count": 12,
   "metadata": {},
   "outputs": [
    {
     "data": {
      "text/plain": [
       "[(123, 'Denver'),\n",
       " (32999, 'Columbus'),\n",
       " (41444, 'Cincinnati'),\n",
       " (54321, 'Seattle')]"
      ]
     },
     "execution_count": 12,
     "metadata": {},
     "output_type": "execute_result"
    }
   ],
   "source": [
    "from orm_models import Station_lookup\n",
    "from web_app import app, db\n",
    "from orm_models import Patient_telecc_state\n",
    "\n",
    "with app.app_context():\n",
    "    for station in Station_lookup.query.all():\n",
    "        x = [(station.station_number, station.station_name) for station in Station_lookup.query.all()]\n",
    "\n",
    "x\n"
   ]
  },
  {
   "cell_type": "code",
   "execution_count": null,
   "metadata": {},
   "outputs": [
    {
     "name": "stdout",
     "output_type": "stream",
     "text": [
      "<class 'list'>\n"
     ]
    },
    {
     "ename": "AttributeError",
     "evalue": "'Patient_telecc_state' object has no attribute 'PatientID'",
     "output_type": "error",
     "traceback": [
      "\u001b[1;31m---------------------------------------------------------------------------\u001b[0m",
      "\u001b[1;31mAttributeError\u001b[0m                            Traceback (most recent call last)",
      "Cell \u001b[1;32mIn[4], line 13\u001b[0m\n\u001b[0;32m     11\u001b[0m \u001b[38;5;28mprint\u001b[39m(\u001b[38;5;28mtype\u001b[39m(patientList))\n\u001b[0;32m     12\u001b[0m \u001b[38;5;28;01mfor\u001b[39;00m  patient \u001b[38;5;129;01min\u001b[39;00m patientList:\n\u001b[1;32m---> 13\u001b[0m     \u001b[38;5;28mprint\u001b[39m(\u001b[43mpatient\u001b[49m\u001b[38;5;241;43m.\u001b[39;49m\u001b[43mPatientID\u001b[49m, patient\u001b[38;5;241m.\u001b[39mrespitory_score_expl_neg_1)\n",
      "\u001b[1;31mAttributeError\u001b[0m: 'Patient_telecc_state' object has no attribute 'PatientID'"
     ]
    }
   ],
   "source": [
    "from web_app import app, db\n",
    "from orm_models import Patient_telecc_state\n",
    "\n",
    "# Specify the desired Sta6a value\n",
    "sta6a_value = 123  # Replace with your target Sta6a value\n",
    "\n",
    "orm_patient = Patient_telecc_state()\n",
    "\n",
    "with app.app_context():\n",
    "    patientList = orm_patient.query.filter_by(station_number = sta6a_value).all()\n",
    "    print(type(patientList))\n",
    "    for  patient in patientList:\n",
    "        print(patient.PatientID, patient.respitory_score_expl_neg_1)\n",
    "        "
   ]
  },
  {
   "cell_type": "markdown",
   "metadata": {},
   "source": [
    "## Get column defs from ORM"
   ]
  },
  {
   "cell_type": "code",
   "execution_count": 2,
   "metadata": {},
   "outputs": [
    {
     "data": {
      "text/plain": [
       "Column('PatientID', Integer(), table=<patient_telecc_state>, primary_key=True, nullable=False)"
      ]
     },
     "execution_count": 2,
     "metadata": {},
     "output_type": "execute_result"
    }
   ],
   "source": [
    "column_defs = [column for column in orm_patient.__table__.columns]\n",
    "x[0]"
   ]
  },
  {
   "cell_type": "code",
   "execution_count": 2,
   "metadata": {},
   "outputs": [
    {
     "data": {
      "text/plain": [
       "[('_sa_instance_state', <sqlalchemy.orm.state.InstanceState at 0x209b5858f50>)]"
      ]
     },
     "execution_count": 2,
     "metadata": {},
     "output_type": "execute_result"
    }
   ],
   "source": [
    "[(a, b) for a, b in zip(orm_patient.__dict__.keys(), patient.__dict__.values())]"
   ]
  },
  {
   "cell_type": "code",
   "execution_count": 3,
   "metadata": {},
   "outputs": [
    {
     "name": "stdout",
     "output_type": "stream",
     "text": [
      "['patientID', 'room', 'station_number', 'patientName', 'Trial_ARM', 'prediction_datetime', 'respiratory_score', 'respiratory_class', 'respiratory_trend', 'septic_shock_score', 'septic_shock_class', 'septic_shock_trend', 'septic_shock_score_expl_pos_1', 'septic_shock_score_expl_pos_2', 'septic_shock_score_expl_pos_3', 'septic_shock_score_expl_neg_1', 'septic_shock_score_expl_neg_2', 'septic_shock_score_expl_neg_3', 'respitory_score_expl_pos_1', 'respitory_score_expl_pos_2', 'respitory_score_expl_pos_3', 'respitory_score_expl_neg_1', 'respitory_score_expl_neg_2', 'respitory_score_expl_neg_3']\n"
     ]
    }
   ],
   "source": [
    "from sqlalchemy.inspection import inspect\n",
    "from orm_models import Patient_telecc_state\n",
    "\n",
    "# Get column names using inspection\n",
    "fields = [column.key for column in inspect(Patient_telecc_state).mapper.column_attrs]\n",
    "print(fields)\n"
   ]
  }
 ],
 "metadata": {
  "kernelspec": {
   "display_name": "flask_env",
   "language": "python",
   "name": "python3"
  },
  "language_info": {
   "codemirror_mode": {
    "name": "ipython",
    "version": 3
   },
   "file_extension": ".py",
   "mimetype": "text/x-python",
   "name": "python",
   "nbconvert_exporter": "python",
   "pygments_lexer": "ipython3",
   "version": "3.13.1"
  }
 },
 "nbformat": 4,
 "nbformat_minor": 2
}
