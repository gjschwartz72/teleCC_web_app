{
 "cells": [
  {
   "cell_type": "markdown",
   "metadata": {},
   "source": [
    "# ORM Query Example"
   ]
  },
  {
   "cell_type": "markdown",
   "metadata": {},
   "source": [
    "## Connect to the database. "
   ]
  },
  {
   "cell_type": "code",
   "execution_count": 1,
   "metadata": {},
   "outputs": [],
   "source": [
    "from flask import Flask\n",
    "from flask_sqlalchemy import SQLAlchemy\n",
    "import os\n",
    "\n",
    "app = Flask(__name__)\n",
    "app.config['SECRET_KEY'] = 'key_for_csrf_token_required_for_form_data'\n",
    "\n",
    "db_path = os.path.abspath(\"synthetic_data/teleCC.sqlite\")\n",
    "app.config['SQLALCHEMY_DATABASE_URI'] = f\"sqlite:///{db_path}\"\n",
    "\n",
    "# Track modifications is often unnecessary and can be disabled\n",
    "app.config['SQLALCHEMY_TRACK_MODIFICATIONS'] = False\n",
    "\n",
    "db = SQLAlchemy(app)"
   ]
  },
  {
   "cell_type": "markdown",
   "metadata": {},
   "source": [
    "## Get a list of tables"
   ]
  },
  {
   "cell_type": "code",
   "execution_count": 3,
   "metadata": {},
   "outputs": [
    {
     "name": "stdout",
     "output_type": "stream",
     "text": [
      "patient_teleCC\n",
      "patient_teleCC_history\n",
      "patient_teleCC_state\n"
     ]
    }
   ],
   "source": [
    "from sqlalchemy import inspect\n",
    "\n",
    "with app.app_context():\n",
    "    inspector = inspect(db.engine)\n",
    "\n",
    "    for table in inspector.get_table_names():\n",
    "        print(table)"
   ]
  },
  {
   "cell_type": "markdown",
   "metadata": {},
   "source": [
    "## Query Using SQL Text  \n",
    "\n",
    "Code below works with the app and db objects import from the web_app module.  \n",
    "So it works after restarting the kernel and running as is.\n",
    "\n",
    "Note that this query method only returns the fields that are in the ORM __repr__() if overwriden.\n",
    "Otherwise it returns a list of objects."
   ]
  },
  {
   "cell_type": "code",
   "execution_count": 1,
   "metadata": {},
   "outputs": [
    {
     "name": "stdout",
     "output_type": "stream",
     "text": [
      "Resolved database path: c:\\Users\\GregSchwartz\\OneDrive - National Consulting Partners, LLC\\TeleCC\\teleCC_web_app\\synthetic_data\\teleCC.sqlite\n",
      "Database exists: True\n",
      "Tables:\n",
      "*********************\n",
      "patient_teleCC\n",
      "patient_teleCC_history\n",
      "patient_teleCC_state\n",
      "*******************\n"
     ]
    },
    {
     "data": {
      "text/plain": [
       "<Patient_telecc_state 1>"
      ]
     },
     "execution_count": 1,
     "metadata": {},
     "output_type": "execute_result"
    }
   ],
   "source": [
    "from web_app import app, db\n",
    "from models import Patient_telecc_state\n",
    "\n",
    "# Specify the desired Sta6a value\n",
    "sta6a_value = 123  # Replace with your target Sta6a value\n",
    "\n",
    "orm_patient = Patient_telecc_state()\n",
    "\n",
    "with app.app_context():\n",
    "    results = db.session.query(Patient_telecc_state).filter(Patient_telecc_state.Sta6a == sta6a_value).all()\n",
    "\n",
    "results[0]"
   ]
  },
  {
   "cell_type": "markdown",
   "metadata": {},
   "source": [
    "## Query using the ORM"
   ]
  },
  {
   "cell_type": "code",
   "execution_count": 1,
   "metadata": {},
   "outputs": [
    {
     "name": "stdout",
     "output_type": "stream",
     "text": [
      "Resolved database path: c:\\Users\\GregSchwartz\\OneDrive - National Consulting Partners, LLC\\TeleCC\\teleCC_web_app\\synthetic_data\\teleCC.sqlite\n",
      "Database exists: True\n",
      "Tables:\n",
      "*********************\n",
      "patient_teleCC\n",
      "patient_teleCC_history\n",
      "patient_teleCC_state\n",
      "*******************\n",
      "<class 'list'>\n",
      "1 0.4047\n",
      "2 0.3999\n",
      "3 0.535\n",
      "4 0.7682\n",
      "5 0.3074\n",
      "34 0.3667\n",
      "37 0.373\n",
      "38 0.3726\n",
      "39 0.4064\n",
      "40 0.5802\n",
      "41 0.4146\n",
      "42 0.39\n",
      "53 0.4352\n",
      "54 0.3936\n"
     ]
    }
   ],
   "source": [
    "from web_app import app, db\n",
    "from models import Patient_telecc_state\n",
    "\n",
    "# Specify the desired Sta6a value\n",
    "sta6a_value = 123  # Replace with your target Sta6a value\n",
    "\n",
    "orm_patient = Patient_telecc_state()\n",
    "\n",
    "with app.app_context():\n",
    "    patientList = orm_patient.query.filter_by(Sta6a = sta6a_value).all()\n",
    "    print(type(patientList))\n",
    "    for  patient in patientList:\n",
    "        print(patient.PatientID, patient.respitory_score_expl_neg_1)\n",
    "        "
   ]
  },
  {
   "cell_type": "markdown",
   "metadata": {},
   "source": [
    "## Get column defs from ORM"
   ]
  },
  {
   "cell_type": "code",
   "execution_count": 2,
   "metadata": {},
   "outputs": [
    {
     "data": {
      "text/plain": [
       "Column('PatientID', Integer(), table=<patient_telecc_state>, primary_key=True, nullable=False)"
      ]
     },
     "execution_count": 2,
     "metadata": {},
     "output_type": "execute_result"
    }
   ],
   "source": [
    "column_defs = [column for column in orm_patient.__table__.columns]\n",
    "x[0]"
   ]
  },
  {
   "cell_type": "code",
   "execution_count": 11,
   "metadata": {},
   "outputs": [
    {
     "data": {
      "text/plain": [
       "[('_sa_instance_state', <sqlalchemy.orm.state.InstanceState at 0x205c6dcf650>),\n",
       " ('prediction_datetime', datetime.datetime(2024, 12, 3, 12, 0)),\n",
       " ('septic_shock_score_expl_pos_2', 0.4308),\n",
       " ('respitory_score_expl_neg_1', 0.3936),\n",
       " ('respiratory_score', 0.9700162425437474),\n",
       " ('septic_shock_score_expl_pos_3', 0.0294),\n",
       " ('respitory_score_expl_neg_2', 0.376),\n",
       " ('respiratory_class', 3),\n",
       " ('septic_shock_score_expl_neg_1', 0.374),\n",
       " ('respitory_score_expl_neg_3', 0.0586),\n",
       " ('PatientID', 54),\n",
       " ('respiratory_trend', -1),\n",
       " ('septic_shock_score_expl_neg_2', 0.3388),\n",
       " ('room', 3),\n",
       " ('septic_shock_score', 0.5462179046134771),\n",
       " ('septic_shock_score_expl_neg_3', 0.2062),\n",
       " ('Sta6a', 123),\n",
       " ('septic_shock_class', 2),\n",
       " ('respitory_score_expl_pos_1', 0.5226),\n",
       " ('PatientName', 'Jane Jones'),\n",
       " ('septic_shock_trend', -1),\n",
       " ('respitory_score_expl_pos_2', 0.2241),\n",
       " ('Trial_ARM', 1),\n",
       " ('septic_shock_score_expl_pos_1', 0.4614),\n",
       " ('respitory_score_expl_pos_3', 0.0908)]"
      ]
     },
     "execution_count": 11,
     "metadata": {},
     "output_type": "execute_result"
    }
   ],
   "source": [
    "[(a, b) for a, b in zip(patient.__dict__.keys(), patient.__dict__.values())]"
   ]
  },
  {
   "cell_type": "code",
   "execution_count": 12,
   "metadata": {},
   "outputs": [
    {
     "name": "stdout",
     "output_type": "stream",
     "text": [
      "['PatientID', 'room', 'Sta6a', 'PatientName', 'Trial_ARM', 'prediction_datetime', 'respiratory_score', 'respiratory_class', 'respiratory_trend', 'septic_shock_score', 'septic_shock_class', 'septic_shock_trend', 'septic_shock_score_expl_pos_1', 'septic_shock_score_expl_pos_2', 'septic_shock_score_expl_pos_3', 'septic_shock_score_expl_neg_1', 'septic_shock_score_expl_neg_2', 'septic_shock_score_expl_neg_3', 'respitory_score_expl_pos_1', 'respitory_score_expl_pos_2', 'respitory_score_expl_pos_3', 'respitory_score_expl_neg_1', 'respitory_score_expl_neg_2', 'respitory_score_expl_neg_3']\n"
     ]
    }
   ],
   "source": [
    "from sqlalchemy.inspection import inspect\n",
    "from models import Patient_telecc_state\n",
    "\n",
    "# Get column names using inspection\n",
    "fields = [column.key for column in inspect(Patient_telecc_state).mapper.column_attrs]\n",
    "print(fields)\n"
   ]
  }
 ],
 "metadata": {
  "kernelspec": {
   "display_name": "flask_env",
   "language": "python",
   "name": "python3"
  },
  "language_info": {
   "codemirror_mode": {
    "name": "ipython",
    "version": 3
   },
   "file_extension": ".py",
   "mimetype": "text/x-python",
   "name": "python",
   "nbconvert_exporter": "python",
   "pygments_lexer": "ipython3",
   "version": "3.13.1"
  }
 },
 "nbformat": 4,
 "nbformat_minor": 2
}
