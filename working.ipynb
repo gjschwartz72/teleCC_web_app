{
 "cells": [
  {
   "cell_type": "code",
   "execution_count": 1,
   "metadata": {},
   "outputs": [],
   "source": [
    "from flask import Flask\n",
    "from flask_sqlalchemy import SQLAlchemy\n",
    "import os\n",
    "\n",
    "app = Flask(__name__)\n",
    "app.config['SECRET_KEY'] = 'key_for_csrf_token_required_for_form_data'\n",
    "\n",
    "db_path = os.path.abspath(\"synthetic_data/teleCC.sqlite\")\n",
    "app.config['SQLALCHEMY_DATABASE_URI'] = f\"sqlite:///{db_path}\"\n",
    "\n",
    "# Track modifications is often unnecessary and can be disabled\n",
    "app.config['SQLALCHEMY_TRACK_MODIFICATIONS'] = False\n",
    "\n",
    "db = SQLAlchemy(app)"
   ]
  },
  {
   "cell_type": "code",
   "execution_count": 2,
   "metadata": {},
   "outputs": [
    {
     "name": "stdout",
     "output_type": "stream",
     "text": [
      "patient_teleCC\n",
      "patient_teleCC_history\n",
      "patient_teleCC_state\n",
      "station_lookup\n"
     ]
    }
   ],
   "source": [
    "from sqlalchemy import inspect\n",
    "\n",
    "with app.app_context():\n",
    "    inspector = inspect(db.engine)\n",
    "\n",
    "    for table in inspector.get_table_names():\n",
    "        print(table)\n"
   ]
  },
  {
   "cell_type": "code",
   "execution_count": 3,
   "metadata": {},
   "outputs": [],
   "source": [
    "with app.app_context(): \n",
    "    db.session.expire_all()"
   ]
  },
  {
   "cell_type": "code",
   "execution_count": 4,
   "metadata": {},
   "outputs": [],
   "source": [
    "from orm_models import  Patient_telecc_history, Patient_telecc_state\n",
    "from flask import jsonify\n"
   ]
  },
  {
   "cell_type": "code",
   "execution_count": 25,
   "metadata": {},
   "outputs": [],
   "source": [
    "def get_patient_details(patient_id):\n",
    "    \"\"\"\n",
    "    Endpoint to fetch detailed information about a specific patient.\n",
    "    \"\"\"\n",
    "    \n",
    "    # Query the database for the patient details based on patient_id\n",
    "    with app.app_context():\n",
    "        patient = db.session.query(Patient_telecc_state).filter(Patient_telecc_state.patientID == patient_id).first()\n",
    "\n",
    "        patient_hist = (\n",
    "            db.session.query(Patient_telecc_history).\n",
    "            filter(Patient_telecc_history.patientID == patient_id).\n",
    "            order_by(Patient_telecc_history.prediction_datetime.asc()).\n",
    "            all()\n",
    "        )\n",
    "\n",
    "        if not patient:\n",
    "            return jsonify({'error': 'Patient not found'}), 404\n",
    "\n",
    "        # Prepare the response data\n",
    "        response_data = {\n",
    "            'patient_id': patient.patientID,\n",
    "            'patient_name': patient.patientName,\n",
    "            'room': patient.room,\n",
    "            'prediction_datetime': patient.prediction_datetime.strftime('%m-%d-%Y %I:%M %p'),\n",
    "            'septic_shock_class': 'low' if patient.septic_shock_class == 0 else 'moderate' if patient.septic_shock_class == 1 else 'critical',\n",
    "            'septic_shock_level': 'Low' if patient.septic_shock_class == 0 else 'Moderate' if patient.septic_shock_class == 1 else 'Critical',\n",
    "            'septic_shock_protocol': 'Line 1\\nLine 2\\nLine 3\\nLine 4',\n",
    "\n",
    "            'septic_shock_expl': {\n",
    "                f'{prefix}_{i}': (\n",
    "                        getattr(patient, f'septic_shock_expl_field_{prefix}_{i}', None),  # Dynamically construct field name\n",
    "                        getattr(patient, f'septic_shock_expl_val_{prefix}_{i}', None)\n",
    "                    )\n",
    "                    for prefix in ['pos', 'neg']  # Iterate over prefixes\n",
    "                    for i in range(1, 4)          # Iterate over indices\n",
    "            },   \n",
    "\n",
    "            'respiratory_class': 'low' if patient.respiratory_class == 0 else 'moderate' if patient.respiratory_class == 1 else 'critical',\n",
    "            'respiratory_level': 'Low' if patient.respiratory_class == 0 else 'Moderate' if patient.respiratory_class == 1 else 'Critical',\n",
    "            'respiratory_protocol': 'Line A\\nLine B\\nLine C\\nLine D',\n",
    "\n",
    "            'respiratory_expl': {\n",
    "                f'{prefix}_{i}': (\n",
    "                        getattr(patient, f'respiratory_expl_field_{prefix}_{i}', None),  # Dynamically construct field name\n",
    "                        getattr(patient, f'respiratory_expl_val_{prefix}_{i}', None)\n",
    "                    )\n",
    "                    for prefix in ['pos', 'neg']  # Iterate over prefixes\n",
    "                    for i in range(1, 4)          # Iterate over indices\n",
    "            }, \n",
    "\n",
    "            'septic_shock_history': [{\n",
    "                \"dateTime\": record.prediction_datetime.isoformat(),\n",
    "                \"value\": round(record.septic_shock_score, 2)\n",
    "                }\n",
    "                for record in patient_hist\n",
    "            ],\n",
    "            'respiratory_history': [{\n",
    "                \"dateTime\": record.prediction_datetime.isoformat(),\n",
    "                \"value\": round(record.respiratory_score, 2)\n",
    "                }\n",
    "                for record in patient_hist\n",
    "            ]\n",
    "\n",
    "\n",
    "        }\n",
    "\n",
    "        return jsonify(response_data)"
   ]
  },
  {
   "cell_type": "code",
   "execution_count": 26,
   "metadata": {},
   "outputs": [
    {
     "data": {
      "text/plain": [
       "{'patient_id': 1,\n",
       " 'patient_name': 'Charlie Miller',\n",
       " 'prediction_datetime': '12-03-2024 12:00 PM',\n",
       " 'respiratory_class': 'critical',\n",
       " 'respiratory_expl': {'neg_1': ['Variable - D', -0.4047],\n",
       "  'neg_2': ['Variable - E', -0.2701],\n",
       "  'neg_3': ['Variable - F', -0.2389],\n",
       "  'pos_1': ['Variable - A', 0.5994],\n",
       "  'pos_2': ['Variable - B', 0.2497],\n",
       "  'pos_3': ['Variable - C', 0.0752]},\n",
       " 'respiratory_history': [{'dateTime': '2024-12-02T12:00:00', 'value': 0.45},\n",
       "  {'dateTime': '2024-12-02T14:00:00', 'value': 0.42},\n",
       "  {'dateTime': '2024-12-02T18:00:00', 'value': 0.43},\n",
       "  {'dateTime': '2024-12-02T20:00:00', 'value': 0.41},\n",
       "  {'dateTime': '2024-12-02T22:00:00', 'value': 0.41},\n",
       "  {'dateTime': '2024-12-03T00:00:00', 'value': 0.4},\n",
       "  {'dateTime': '2024-12-03T02:00:00', 'value': 0.37},\n",
       "  {'dateTime': '2024-12-03T04:00:00', 'value': 0.35},\n",
       "  {'dateTime': '2024-12-03T06:00:00', 'value': 0.32},\n",
       "  {'dateTime': '2024-12-03T08:00:00', 'value': 0.3},\n",
       "  {'dateTime': '2024-12-03T10:00:00', 'value': 0.29},\n",
       "  {'dateTime': '2024-12-03T12:00:00', 'value': 0.33}],\n",
       " 'respiratory_level': 'Critical',\n",
       " 'respiratory_protocol': 'Line A\\nLine B\\nLine C\\nLine D',\n",
       " 'room': 2,\n",
       " 'septic_shock_class': 'moderate',\n",
       " 'septic_shock_expl': {'neg_1': ['Variable - D', -0.3686],\n",
       "  'neg_2': ['Variable - E', -0.276],\n",
       "  'neg_3': ['Variable - F', -0.2466],\n",
       "  'pos_1': ['Variable - A', 0.4646],\n",
       "  'pos_2': ['Variable - B', 0.2701],\n",
       "  'pos_3': ['Variable - C', 0.0892]},\n",
       " 'septic_shock_history': [{'dateTime': '2024-12-02T12:00:00', 'value': 0.25},\n",
       "  {'dateTime': '2024-12-02T14:00:00', 'value': 0.23},\n",
       "  {'dateTime': '2024-12-02T18:00:00', 'value': 0.25},\n",
       "  {'dateTime': '2024-12-02T20:00:00', 'value': 0.22},\n",
       "  {'dateTime': '2024-12-02T22:00:00', 'value': 0.22},\n",
       "  {'dateTime': '2024-12-03T00:00:00', 'value': 0.21},\n",
       "  {'dateTime': '2024-12-03T02:00:00', 'value': 0.18},\n",
       "  {'dateTime': '2024-12-03T04:00:00', 'value': 0.19},\n",
       "  {'dateTime': '2024-12-03T06:00:00', 'value': 0.18},\n",
       "  {'dateTime': '2024-12-03T08:00:00', 'value': 0.14},\n",
       "  {'dateTime': '2024-12-03T10:00:00', 'value': 0.13},\n",
       "  {'dateTime': '2024-12-03T12:00:00', 'value': 0.16}],\n",
       " 'septic_shock_level': 'Moderate',\n",
       " 'septic_shock_protocol': 'Line 1\\nLine 2\\nLine 3\\nLine 4'}"
      ]
     },
     "execution_count": 26,
     "metadata": {},
     "output_type": "execute_result"
    }
   ],
   "source": [
    "patientJSON = get_patient_details(1)\n",
    "patientJSON.json\n"
   ]
  },
  {
   "cell_type": "code",
   "execution_count": 7,
   "metadata": {},
   "outputs": [],
   "source": [
    "with app.app_context():\n",
    "    patient_hist = db.session.query(Patient_telecc_history).filter(Patient_telecc_history.patientID == 1).all()"
   ]
  },
  {
   "cell_type": "code",
   "execution_count": 14,
   "metadata": {},
   "outputs": [
    {
     "data": {
      "text/plain": [
       "[0.16, 0.13, 0.14, 0.18, 0.19, 0.18, 0.21, 0.22, 0.22, 0.25, 0.23, 0.25]"
      ]
     },
     "execution_count": 14,
     "metadata": {},
     "output_type": "execute_result"
    }
   ],
   "source": [
    "respiratory_history = [round(score.respiratory_score,2) for score in patient_hist]\n",
    "septic_shock_history = [round(score.septic_shock_score,2) for score in patient_hist]\n",
    "septic_shock_history"
   ]
  },
  {
   "cell_type": "code",
   "execution_count": 11,
   "metadata": {},
   "outputs": [
    {
     "data": {
      "text/plain": [
       "{'pos_1': ('Variable - A', 0.4425),\n",
       " 'pos_2': ('Variable - B', 0.3253),\n",
       " 'pos_3': ('Variable - C', 0.0419),\n",
       " 'neg_1': ('Variable - D', -0.3565),\n",
       " 'neg_2': ('Variable - E', -0.31),\n",
       " 'neg_3': ('Variable - F', -0.1316)}"
      ]
     },
     "execution_count": 11,
     "metadata": {},
     "output_type": "execute_result"
    }
   ],
   "source": [
    "{\n",
    "    f'{prefix}_{i}': (\n",
    "        getattr(patient, f'septic_shock_expl_field_{prefix}_{i}', None),  # Dynamically construct field name\n",
    "        getattr(patient, f'septic_shock_expl_val_{prefix}_{i}', None)\n",
    "    )\n",
    "    for prefix in ['pos', 'neg']  # Iterate over prefixes\n",
    "    for i in range(1, 4)          # Iterate over indices\n",
    "}"
   ]
  },
  {
   "cell_type": "code",
   "execution_count": 17,
   "metadata": {},
   "outputs": [],
   "source": [
    "with app.app_context():\n",
    "    db.session.expire_all()"
   ]
  },
  {
   "cell_type": "code",
   "execution_count": 29,
   "metadata": {},
   "outputs": [
    {
     "data": {
      "text/plain": [
       "{'pos_1': ('Variable - A', 0.4425),\n",
       " 'pos_2': ('Variable - B', 0.3253),\n",
       " 'pos_3': ('Variable - C', 0.0419)}"
      ]
     },
     "execution_count": 29,
     "metadata": {},
     "output_type": "execute_result"
    }
   ],
   "source": [
    "{\n",
    "    f'pos_{i}': (\n",
    "        getattr(patient, f'septic_shock_expl_field_pos_{i}', None),  # Dynamically construct field name\n",
    "        getattr(patient, f'septic_shock_expl_val_pos_{i}', None)\n",
    "    )\n",
    "    for i in range(1, 4)\n",
    "}\n"
   ]
  },
  {
   "cell_type": "code",
   "execution_count": 34,
   "metadata": {},
   "outputs": [
    {
     "ename": "AttributeError",
     "evalue": "'Patient_telecc_state' object has no attribute 'septic_shock_expl_var_neg_1'",
     "output_type": "error",
     "traceback": [
      "\u001b[1;31m---------------------------------------------------------------------------\u001b[0m",
      "\u001b[1;31mAttributeError\u001b[0m                            Traceback (most recent call last)",
      "Cell \u001b[1;32mIn[34], line 1\u001b[0m\n\u001b[1;32m----> 1\u001b[0m \u001b[43mpatient\u001b[49m\u001b[38;5;241;43m.\u001b[39;49m\u001b[43mseptic_shock_expl_var_neg_1\u001b[49m\n",
      "\u001b[1;31mAttributeError\u001b[0m: 'Patient_telecc_state' object has no attribute 'septic_shock_expl_var_neg_1'"
     ]
    }
   ],
   "source": [
    "patient.septic_shock_expl_val_neg"
   ]
  },
  {
   "cell_type": "code",
   "execution_count": 18,
   "metadata": {},
   "outputs": [
    {
     "data": {
      "text/plain": [
       "'Variable - A'"
      ]
     },
     "execution_count": 18,
     "metadata": {},
     "output_type": "execute_result"
    }
   ],
   "source": [
    "sign = 'pos'\n",
    "i = 1\n",
    "var = f'septic_shock_expl_field_{sign}_{i}'\n",
    "\n",
    "getattr(patient, var)"
   ]
  },
  {
   "cell_type": "code",
   "execution_count": null,
   "metadata": {},
   "outputs": [],
   "source": [
    "patient.septic_shock_expl_field_pos_1"
   ]
  },
  {
   "cell_type": "code",
   "execution_count": 13,
   "metadata": {},
   "outputs": [
    {
     "name": "stdout",
     "output_type": "stream",
     "text": [
      "HISTORY LENGTH: 12\n"
     ]
    }
   ],
   "source": [
    "x = get_patient_details(1)"
   ]
  },
  {
   "cell_type": "code",
   "execution_count": 12,
   "metadata": {},
   "outputs": [
    {
     "data": {
      "text/plain": [
       "{'patient_id': 1,\n",
       " 'patient_name': 'Charlie Miller',\n",
       " 'prediction_datetime': '12-01-2024 12:00 AM',\n",
       " 'respiratory_class': 'critical',\n",
       " 'respiratory_level': 'Critical',\n",
       " 'respiratory_protocol': 'Line A\\nLine B\\nLine C\\nLine D',\n",
       " 'room': 2,\n",
       " 'septic_shock_class': 'critical',\n",
       " 'septic_shock_explainability': [{'contribution': 'septic_shock_expl_val_pos1',\n",
       "   'variable': 'septic_shock_expl_field_pos1'},\n",
       "  {'contribution': 'septic_shock_expl_val_pos2',\n",
       "   'variable': 'septic_shock_expl_field_pos2'},\n",
       "  {'contribution': 'septic_shock_expl_val_pos3',\n",
       "   'variable': 'septic_shock_expl_field_pos3'}],\n",
       " 'septic_shock_level': 'Critical',\n",
       " 'septic_shock_protocol': 'Line 1\\nLine 2\\nLine 3\\nLine 4'}"
      ]
     },
     "execution_count": 12,
     "metadata": {},
     "output_type": "execute_result"
    }
   ],
   "source": [
    "x.json"
   ]
  },
  {
   "cell_type": "code",
   "execution_count": 5,
   "metadata": {},
   "outputs": [
    {
     "name": "stdout",
     "output_type": "stream",
     "text": [
      "Resolved database path: c:\\Users\\GregSchwartz\\OneDrive - National Consulting Partners, LLC\\TeleCC\\teleCC_web_app\\synthetic_data\\teleCC.sqlite\n",
      "Database exists: True\n",
      "Tables:\n",
      "*********************\n",
      "patient_teleCC\n",
      "patient_teleCC_history\n",
      "patient_teleCC_state\n",
      "*******************\n",
      "Tables:\n",
      "*********************\n",
      "patient_teleCC\n",
      "patient_teleCC_history\n",
      "patient_teleCC_state\n",
      "*******************\n"
     ]
    }
   ],
   "source": [
    "from sqlalchemy import inspect\n",
    "from web_app import app, db\n",
    "from orm_models import Patient_telecc_state\n",
    "\n",
    "with app.app_context():\n",
    "    inspector = inspect(db.engine)\n",
    "\n",
    "    print(\"Tables:\\n*********************\")\n",
    "    for table in inspector.get_table_names():\n",
    "        print(table)\n",
    "    print(\"*******************\")"
   ]
  },
  {
   "cell_type": "code",
   "execution_count": 2,
   "metadata": {},
   "outputs": [
    {
     "name": "stdout",
     "output_type": "stream",
     "text": [
      "<class 'list'>\n",
      "1\n",
      "2\n",
      "3\n",
      "4\n",
      "5\n",
      "34\n",
      "37\n",
      "38\n",
      "39\n",
      "40\n",
      "41\n",
      "42\n",
      "53\n",
      "54\n"
     ]
    }
   ],
   "source": [
    "from web_app import app, db\n",
    "from orm_models import Patient_telecc_state\n",
    "\n",
    "# Specify the desired Sta6a value\n",
    "sta6a_value = 123  # Replace with your target Sta6a value\n",
    "\n",
    "orm_patient = Patient_telecc_state()\n",
    "\n",
    "with app.app_context():\n",
    "    patientList = orm_patient.query.filter_by(Sta6a = sta6a_value).all()\n",
    "    print(type(patientList))\n",
    "    for  patient in patientList:\n",
    "        print(patient.PatientID)\n",
    "\n",
    "with app.app_context():\n",
    "    results = db.session.query(Patient_telecc_state).filter(Patient_telecc_state.Sta6a == sta6a_value).all()\n",
    "\n",
    "# Process or display the results\n",
    "# for record in results:\n",
    "#     print(record)\n"
   ]
  },
  {
   "cell_type": "code",
   "execution_count": 13,
   "metadata": {},
   "outputs": [
    {
     "data": {
      "text/plain": [
       "14"
      ]
     },
     "execution_count": 13,
     "metadata": {},
     "output_type": "execute_result"
    }
   ],
   "source": [
    "len(results)"
   ]
  },
  {
   "cell_type": "code",
   "execution_count": 8,
   "metadata": {},
   "outputs": [
    {
     "name": "stdout",
     "output_type": "stream",
     "text": [
      "c:\\Users\\GregSchwartz\\OneDrive - National Consulting Partners, LLC\\TeleCC\\teleCC_web_app\\synthetic_data\\teleCC.sqlite\n",
      "True\n"
     ]
    }
   ],
   "source": [
    "import os\n",
    "db_path = os.path.abspath(\"synthetic_data/teleCC.sqlite\")\n",
    "print(db_path)  # Verify the resolved absolute path\n",
    "print(os.path.exists(db_path))  # Check if the file exists\n"
   ]
  }
 ],
 "metadata": {
  "kernelspec": {
   "display_name": "flask_env",
   "language": "python",
   "name": "python3"
  },
  "language_info": {
   "codemirror_mode": {
    "name": "ipython",
    "version": 3
   },
   "file_extension": ".py",
   "mimetype": "text/x-python",
   "name": "python",
   "nbconvert_exporter": "python",
   "pygments_lexer": "ipython3",
   "version": "3.13.1"
  }
 },
 "nbformat": 4,
 "nbformat_minor": 2
}
