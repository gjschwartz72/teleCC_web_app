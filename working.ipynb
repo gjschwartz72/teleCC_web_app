{
 "cells": [
  {
   "cell_type": "code",
   "execution_count": 7,
   "metadata": {},
   "outputs": [],
   "source": [
    "from flask import Flask\n",
    "from flask_sqlalchemy import SQLAlchemy\n",
    "import os\n",
    "\n",
    "app = Flask(__name__)\n",
    "app.config['SECRET_KEY'] = 'key_for_csrf_token_required_for_form_data'\n",
    "\n",
    "db_path = os.path.abspath(\"synthetic_data/teleCC.sqlite\")\n",
    "app.config['SQLALCHEMY_DATABASE_URI'] = f\"sqlite:///{db_path}\"\n",
    "\n",
    "# Track modifications is often unnecessary and can be disabled\n",
    "app.config['SQLALCHEMY_TRACK_MODIFICATIONS'] = False\n",
    "\n",
    "db = SQLAlchemy(app)"
   ]
  },
  {
   "cell_type": "code",
   "execution_count": 8,
   "metadata": {},
   "outputs": [
    {
     "data": {
      "text/plain": [
       "flask_sqlalchemy.extension.SQLAlchemy"
      ]
     },
     "execution_count": 8,
     "metadata": {},
     "output_type": "execute_result"
    }
   ],
   "source": [
    "type(db)"
   ]
  },
  {
   "cell_type": "code",
   "execution_count": 9,
   "metadata": {},
   "outputs": [
    {
     "name": "stdout",
     "output_type": "stream",
     "text": [
      "patient_teleCC\n",
      "patient_teleCC_history\n",
      "patient_teleCC_state\n"
     ]
    }
   ],
   "source": [
    "from sqlalchemy import inspect\n",
    "\n",
    "with app.app_context():\n",
    "    inspector = inspect(db.engine)\n",
    "\n",
    "    for table in inspector.get_table_names():\n",
    "        print(table)\n"
   ]
  },
  {
   "cell_type": "code",
   "execution_count": 4,
   "metadata": {},
   "outputs": [
    {
     "data": {
      "text/plain": [
       "19838"
      ]
     },
     "execution_count": 4,
     "metadata": {},
     "output_type": "execute_result"
    }
   ],
   "source": [
    "from sqlalchemy import text\n",
    "with app.app_context():\n",
    "    results = db.session.execute(text(\"select count(*) as n from patient_teleCC\"))\n",
    "\n",
    "results.fetchone()[0]"
   ]
  },
  {
   "cell_type": "code",
   "execution_count": 11,
   "metadata": {},
   "outputs": [
    {
     "data": {
      "text/plain": [
       "<SQLAlchemy>"
      ]
     },
     "execution_count": 11,
     "metadata": {},
     "output_type": "execute_result"
    }
   ],
   "source": [
    "db"
   ]
  },
  {
   "cell_type": "code",
   "execution_count": 11,
   "metadata": {},
   "outputs": [],
   "source": [
    "from web_app import app, db"
   ]
  },
  {
   "cell_type": "code",
   "execution_count": 5,
   "metadata": {},
   "outputs": [
    {
     "name": "stdout",
     "output_type": "stream",
     "text": [
      "Resolved database path: c:\\Users\\GregSchwartz\\OneDrive - National Consulting Partners, LLC\\TeleCC\\teleCC_web_app\\synthetic_data\\teleCC.sqlite\n",
      "Database exists: True\n",
      "Tables:\n",
      "*********************\n",
      "patient_teleCC\n",
      "patient_teleCC_history\n",
      "patient_teleCC_state\n",
      "*******************\n",
      "Tables:\n",
      "*********************\n",
      "patient_teleCC\n",
      "patient_teleCC_history\n",
      "patient_teleCC_state\n",
      "*******************\n"
     ]
    }
   ],
   "source": [
    "from sqlalchemy import inspect\n",
    "from web_app import app, db\n",
    "from models import Patient_telecc_state\n",
    "\n",
    "with app.app_context():\n",
    "    inspector = inspect(db.engine)\n",
    "\n",
    "    print(\"Tables:\\n*********************\")\n",
    "    for table in inspector.get_table_names():\n",
    "        print(table)\n",
    "    print(\"*******************\")"
   ]
  },
  {
   "cell_type": "code",
   "execution_count": 2,
   "metadata": {},
   "outputs": [
    {
     "name": "stdout",
     "output_type": "stream",
     "text": [
      "<class 'list'>\n",
      "1\n",
      "2\n",
      "3\n",
      "4\n",
      "5\n",
      "34\n",
      "37\n",
      "38\n",
      "39\n",
      "40\n",
      "41\n",
      "42\n",
      "53\n",
      "54\n"
     ]
    }
   ],
   "source": [
    "from web_app import app, db\n",
    "from models import Patient_telecc_state\n",
    "\n",
    "# Specify the desired Sta6a value\n",
    "sta6a_value = 123  # Replace with your target Sta6a value\n",
    "\n",
    "orm_patient = Patient_telecc_state()\n",
    "\n",
    "with app.app_context():\n",
    "    patientList = orm_patient.query.filter_by(Sta6a = sta6a_value).all()\n",
    "    print(type(patientList))\n",
    "    for  patient in patientList:\n",
    "        print(patient.PatientID)\n",
    "\n",
    "with app.app_context():\n",
    "    results = db.session.query(Patient_telecc_state).filter(Patient_telecc_state.Sta6a == sta6a_value).all()\n",
    "\n",
    "# Process or display the results\n",
    "# for record in results:\n",
    "#     print(record)\n"
   ]
  },
  {
   "cell_type": "code",
   "execution_count": 13,
   "metadata": {},
   "outputs": [
    {
     "data": {
      "text/plain": [
       "14"
      ]
     },
     "execution_count": 13,
     "metadata": {},
     "output_type": "execute_result"
    }
   ],
   "source": [
    "len(results)"
   ]
  },
  {
   "cell_type": "code",
   "execution_count": 8,
   "metadata": {},
   "outputs": [
    {
     "name": "stdout",
     "output_type": "stream",
     "text": [
      "c:\\Users\\GregSchwartz\\OneDrive - National Consulting Partners, LLC\\TeleCC\\teleCC_web_app\\synthetic_data\\teleCC.sqlite\n",
      "True\n"
     ]
    }
   ],
   "source": [
    "import os\n",
    "db_path = os.path.abspath(\"synthetic_data/teleCC.sqlite\")\n",
    "print(db_path)  # Verify the resolved absolute path\n",
    "print(os.path.exists(db_path))  # Check if the file exists\n"
   ]
  }
 ],
 "metadata": {
  "kernelspec": {
   "display_name": "flask_env",
   "language": "python",
   "name": "python3"
  },
  "language_info": {
   "codemirror_mode": {
    "name": "ipython",
    "version": 3
   },
   "file_extension": ".py",
   "mimetype": "text/x-python",
   "name": "python",
   "nbconvert_exporter": "python",
   "pygments_lexer": "ipython3",
   "version": "3.13.1"
  }
 },
 "nbformat": 4,
 "nbformat_minor": 2
}
