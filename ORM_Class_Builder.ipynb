{
 "cells": [
  {
   "cell_type": "markdown",
   "metadata": {},
   "source": [
    "# Model Builder\n",
    "\n",
    "Generate the SQLAlchemy ORM model class code for a given table.  \n",
    "Use this to copy the class code into the models.py file."
   ]
  },
  {
   "cell_type": "code",
   "execution_count": 22,
   "metadata": {},
   "outputs": [],
   "source": [
    "from sqlalchemy import inspect\n",
    "\n",
    "def ORM_Class_Builder(app, db, table_name):\n",
    "    \"\"\"\n",
    "    Generate the SQLAlchemy ORM model class code for a given table.\n",
    "\n",
    "    Parameters:\n",
    "        app (Flask): The Flask application.\n",
    "        db (SQLAlchemy): The SQLAlchemy object.\n",
    "        table_name (str): The name of the table.\n",
    "\n",
    "    Returns:\n",
    "        str: The Python code for the SQLAlchemy ORM model class.\n",
    "    \"\"\"\n",
    "    with app.app_context():\n",
    "        inspector = inspect(db.engine)\n",
    "\n",
    "        # Check if the table exists\n",
    "        if table_name not in inspector.get_table_names():\n",
    "            raise ValueError(f\"Table '{table_name}' does not exist in the database.\")\n",
    "\n",
    "        # Retrieve the table's columns\n",
    "        columns = inspector.get_columns(table_name)\n",
    "\n",
    "        # Start building the model class as a string\n",
    "        class_code = [\"from app import db\", \"\", f\"class {table_name.capitalize()}(db.Model):\"]\n",
    "\n",
    "        class_code.append(f\"\\n    __tablename__ = {table_name}\\n\")\n",
    "\n",
    "\n",
    "        # Add columns to the model\n",
    "        for column in columns:\n",
    "            column_name = column['name']\n",
    "            column_type = str(column['type'])\n",
    "            is_primary = column.get('primary_key', False)\n",
    "            nullable = column.get('nullable', True)\n",
    "\n",
    "            #print(column_name, column_type)\n",
    "\n",
    "            # Map SQLAlchemy types\n",
    "            if \"VARCHAR\" in column_type.upper() or \"CHAR\" in column_type.upper():\n",
    "                column_type = \"db.String\"\n",
    "            elif \"INTEGER\" in column_type.upper():\n",
    "                column_type = \"db.Integer\"\n",
    "            elif \"DATE\" in column_type.upper() or \"date\" in column_name.lower():\n",
    "                column_type = \"db.DateTime\"  # Map date/datetime column names to datetime\n",
    "            elif \"DATETIME\" in column_type.upper():\n",
    "                column_type = \"db.DateTime\"\n",
    "            elif \"FLOAT\" in column_type.upper():\n",
    "                column_type = \"db.Float\"\n",
    "            elif \"REAL\" in column_type.upper():\n",
    "                column_type = \"db.Float\"\n",
    "            elif \"BOOLEAN\" in column_type.upper():\n",
    "                column_type = \"db.Boolean\"\n",
    "            elif \"NUMERIC\" in column_type.upper():\n",
    "                column_type = \"db.Numeric\"\n",
    "            else:\n",
    "                column_type = \"db.Text\"\n",
    "\n",
    "            #print(f\"\\t{column_type}\")\n",
    "            # Build the column definition\n",
    "            column_line = f\"    {column_name} = db.Column({column_type}\"\n",
    "            if is_primary:\n",
    "                column_line += \", primary_key=True\"\n",
    "            if not nullable:\n",
    "                column_line += \", nullable=False\"\n",
    "            column_line += \")\"\n",
    "            class_code.append(column_line)\n",
    "\n",
    "        # Add the __repr__ method\n",
    "        class_code.append(\"\")\n",
    "        class_code.append(\"    def __repr__(self):\")\n",
    "        class_code.append(f\"        return f'<{table_name.capitalize()} {{self.id}}>'\")\n",
    "\n",
    "        # Join the class code into a single string\n",
    "        return \"\\n\".join(class_code)\n",
    "\n",
    "# Example usage\n",
    "# with app.app_context():\n",
    "#     print(generate_model_code(app, db, 'your_table_name'))\n"
   ]
  },
  {
   "cell_type": "code",
   "execution_count": 23,
   "metadata": {},
   "outputs": [],
   "source": [
    "from flask import Flask\n",
    "from flask_sqlalchemy import SQLAlchemy\n",
    "import os\n",
    "\n",
    "app = Flask(__name__)\n",
    "app.config['SECRET_KEY'] = 'key_for_csrf_token_required_for_form_data'\n",
    "\n",
    "db_path = os.path.abspath(\"synthetic_data/teleCC.sqlite\")\n",
    "app.config['SQLALCHEMY_DATABASE_URI'] = f\"sqlite:///{db_path}\"\n",
    "\n",
    "# Track modifications is often unnecessary and can be disabled\n",
    "app.config['SQLALCHEMY_TRACK_MODIFICATIONS'] = False\n",
    "\n",
    "db = SQLAlchemy(app)"
   ]
  },
  {
   "cell_type": "code",
   "execution_count": 24,
   "metadata": {},
   "outputs": [
    {
     "name": "stdout",
     "output_type": "stream",
     "text": [
      "patient_teleCC\n",
      "patient_teleCC_history\n",
      "patient_teleCC_state\n",
      "station_lookup\n"
     ]
    }
   ],
   "source": [
    "from sqlalchemy import inspect\n",
    "\n",
    "with app.app_context():\n",
    "    inspector = inspect(db.engine)\n",
    "\n",
    "    for table in inspector.get_table_names():\n",
    "        print(table)"
   ]
  },
  {
   "cell_type": "code",
   "execution_count": 25,
   "metadata": {},
   "outputs": [
    {
     "name": "stdout",
     "output_type": "stream",
     "text": [
      "from app import db\n",
      "\n",
      "class Station_lookup(db.Model):\n",
      "\n",
      "    __tablename__ = station_lookup\n",
      "\n",
      "    station_number = db.Column(db.Integer, primary_key=True)\n",
      "    station_name = db.Column(db.Text)\n",
      "\n",
      "    def __repr__(self):\n",
      "        return f'<Station_lookup {self.id}>'\n"
     ]
    }
   ],
   "source": [
    "table_name = 'station_lookup'\n",
    "class_code = ORM_Class_Builder(app, db, table_name)\n",
    "print(class_code)"
   ]
  },
  {
   "cell_type": "code",
   "execution_count": null,
   "metadata": {},
   "outputs": [],
   "source": []
  }
 ],
 "metadata": {
  "kernelspec": {
   "display_name": "flask_env",
   "language": "python",
   "name": "python3"
  },
  "language_info": {
   "codemirror_mode": {
    "name": "ipython",
    "version": 3
   },
   "file_extension": ".py",
   "mimetype": "text/x-python",
   "name": "python",
   "nbconvert_exporter": "python",
   "pygments_lexer": "ipython3",
   "version": "3.13.1"
  }
 },
 "nbformat": 4,
 "nbformat_minor": 2
}
